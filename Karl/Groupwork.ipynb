{
  "nbformat": 4,
  "nbformat_minor": 0,
  "metadata": {
    "colab": {
      "name": "Groupwork.ipynb",
      "provenance": [],
      "collapsed_sections": []
    },
    "kernelspec": {
      "name": "python3",
      "display_name": "Python 3"
    }
  },
  "cells": [
    {
      "cell_type": "code",
      "metadata": {
        "id": "psKrg45jenuC"
      },
      "source": [
        "!mkdir .kaggle"
      ],
      "execution_count": 1,
      "outputs": []
    },
    {
      "cell_type": "code",
      "metadata": {
        "id": "hQ5fb1xxesuY"
      },
      "source": [
        "import json\n",
        "token = {\"username\": \"myseolumic\", \"key\": \"0085cfc466ca2506e25ef86587c58eae\"}\n",
        "with open('/content/.kaggle/kaggle.json', 'w') as file:\n",
        "    json.dump(token, file)"
      ],
      "execution_count": 2,
      "outputs": []
    },
    {
      "cell_type": "code",
      "metadata": {
        "id": "mdGGZvoteynD",
        "colab": {
          "base_uri": "https://localhost:8080/"
        },
        "outputId": "b67a0403-c441-4250-b7a1-a7fc59287a5e"
      },
      "source": [
        "!cp /content/.kaggle/kaggle.json ~/.kaggle/kaggle.json\n",
        "!kaggle config set -n path -v{/content}\n",
        "!chmod 600 ~/.kaggle/kaggle.json"
      ],
      "execution_count": 4,
      "outputs": [
        {
          "output_type": "stream",
          "text": [
            "Warning: Your Kaggle API key is readable by other users on this system! To fix this, you can run 'chmod 600 /root/.kaggle/kaggle.json'\n",
            "- path is now set to: {/content}\n"
          ],
          "name": "stdout"
        }
      ]
    },
    {
      "cell_type": "code",
      "metadata": {
        "id": "pq8JMkCEHg9O",
        "colab": {
          "base_uri": "https://localhost:8080/"
        },
        "outputId": "d451cb94-fc97-4f7c-9b5b-696857058750"
      },
      "source": [
        "!kaggle competitions download -c competitive-data-science-predict-future-sales"
      ],
      "execution_count": 5,
      "outputs": [
        {
          "output_type": "stream",
          "text": [
            "Warning: Looks like you're using an outdated API Version, please consider updating (server 1.5.10 / client 1.5.4)\n",
            "Downloading sample_submission.csv.zip to {/content}/competitions/competitive-data-science-predict-future-sales\n",
            "  0% 0.00/468k [00:00<?, ?B/s]\n",
            "100% 468k/468k [00:00<00:00, 70.3MB/s]\n",
            "Downloading test.csv.zip to {/content}/competitions/competitive-data-science-predict-future-sales\n",
            "  0% 0.00/1.02M [00:00<?, ?B/s]\n",
            "100% 1.02M/1.02M [00:00<00:00, 67.6MB/s]\n",
            "Downloading sales_train.csv.zip to {/content}/competitions/competitive-data-science-predict-future-sales\n",
            " 68% 9.00M/13.3M [00:00<00:00, 35.1MB/s]\n",
            "100% 13.3M/13.3M [00:00<00:00, 44.2MB/s]\n",
            "Downloading items.csv.zip to {/content}/competitions/competitive-data-science-predict-future-sales\n",
            "  0% 0.00/368k [00:00<?, ?B/s]\n",
            "100% 368k/368k [00:00<00:00, 111MB/s]\n",
            "Downloading item_categories.csv to {/content}/competitions/competitive-data-science-predict-future-sales\n",
            "  0% 0.00/3.49k [00:00<?, ?B/s]\n",
            "100% 3.49k/3.49k [00:00<00:00, 3.81MB/s]\n",
            "Downloading shops.csv to {/content}/competitions/competitive-data-science-predict-future-sales\n",
            "  0% 0.00/2.91k [00:00<?, ?B/s]\n",
            "100% 2.91k/2.91k [00:00<00:00, 2.77MB/s]\n"
          ],
          "name": "stdout"
        }
      ]
    },
    {
      "cell_type": "code",
      "metadata": {
        "id": "wvN22LhzJEKS",
        "colab": {
          "base_uri": "https://localhost:8080/"
        },
        "outputId": "62908d5e-3392-46d8-adf8-20885e27b211"
      },
      "source": [
        "!unzip sample_data/competitive-data-science-predict-future-sales/sales_train.csv.zip\n",
        "!unzip sample_data/competitive-data-science-predict-future-sales/test.csv.zip\n",
        "!unzip sample_data/competitive-data-science-predict-future-sales/sample_submission.csv.zip\n",
        "!unzip sample_data/competitive-data-science-predict-future-sales/items.csv.zip"
      ],
      "execution_count": 6,
      "outputs": [
        {
          "output_type": "stream",
          "text": [
            "Archive:  sample_data/competitive-data-science-predict-future-sales/sales_train.csv.zip\n",
            "  inflating: sales_train.csv         \n",
            "Archive:  sample_data/competitive-data-science-predict-future-sales/test.csv.zip\n",
            "  inflating: test.csv                \n",
            "Archive:  sample_data/competitive-data-science-predict-future-sales/sample_submission.csv.zip\n",
            "  inflating: sample_submission.csv   \n",
            "Archive:  sample_data/competitive-data-science-predict-future-sales/items.csv.zip\n",
            "  inflating: items.csv               \n"
          ],
          "name": "stdout"
        }
      ]
    },
    {
      "cell_type": "code",
      "metadata": {
        "id": "_50WjZ3ycNm5"
      },
      "source": [
        "!mv sample_data/competitive-data-science-predict-future-sales/item_categories.csv item_categories.csv\n",
        "!mv sample_data/competitive-data-science-predict-future-sales/shops.csv shops.csv"
      ],
      "execution_count": 7,
      "outputs": []
    },
    {
      "cell_type": "code",
      "metadata": {
        "id": "tbmOC9K6vn2g",
        "colab": {
          "base_uri": "https://localhost:8080/",
          "height": 204
        },
        "outputId": "046d01a5-7dc9-475b-a4b9-43990b83a817"
      },
      "source": [
        "import numpy as np\n",
        "import pandas as pd\n",
        "import matplotlib.pyplot as plt\n",
        "%matplotlib inline\n",
        "\n",
        "data_root = \"../sample_data/competitive-data-science-predict-future-sales/\"\n",
        "\n",
        "train = pd.read_csv('sales_train.csv')\n",
        "test = pd.read_csv('test.csv')\n",
        "submission = pd.read_csv('sample_submission.csv')\n",
        "items = pd.read_csv('items.csv')\n",
        "cats = pd.read_csv('item_categories.csv')\n",
        "shops = pd.read_csv('shops.csv')\n",
        "train.head()"
      ],
      "execution_count": 47,
      "outputs": [
        {
          "output_type": "execute_result",
          "data": {
            "text/html": [
              "<div>\n",
              "<style scoped>\n",
              "    .dataframe tbody tr th:only-of-type {\n",
              "        vertical-align: middle;\n",
              "    }\n",
              "\n",
              "    .dataframe tbody tr th {\n",
              "        vertical-align: top;\n",
              "    }\n",
              "\n",
              "    .dataframe thead th {\n",
              "        text-align: right;\n",
              "    }\n",
              "</style>\n",
              "<table border=\"1\" class=\"dataframe\">\n",
              "  <thead>\n",
              "    <tr style=\"text-align: right;\">\n",
              "      <th></th>\n",
              "      <th>date</th>\n",
              "      <th>date_block_num</th>\n",
              "      <th>shop_id</th>\n",
              "      <th>item_id</th>\n",
              "      <th>item_price</th>\n",
              "      <th>item_cnt_day</th>\n",
              "    </tr>\n",
              "  </thead>\n",
              "  <tbody>\n",
              "    <tr>\n",
              "      <th>0</th>\n",
              "      <td>02.01.2013</td>\n",
              "      <td>0</td>\n",
              "      <td>59</td>\n",
              "      <td>22154</td>\n",
              "      <td>999.00</td>\n",
              "      <td>1.0</td>\n",
              "    </tr>\n",
              "    <tr>\n",
              "      <th>1</th>\n",
              "      <td>03.01.2013</td>\n",
              "      <td>0</td>\n",
              "      <td>25</td>\n",
              "      <td>2552</td>\n",
              "      <td>899.00</td>\n",
              "      <td>1.0</td>\n",
              "    </tr>\n",
              "    <tr>\n",
              "      <th>2</th>\n",
              "      <td>05.01.2013</td>\n",
              "      <td>0</td>\n",
              "      <td>25</td>\n",
              "      <td>2552</td>\n",
              "      <td>899.00</td>\n",
              "      <td>-1.0</td>\n",
              "    </tr>\n",
              "    <tr>\n",
              "      <th>3</th>\n",
              "      <td>06.01.2013</td>\n",
              "      <td>0</td>\n",
              "      <td>25</td>\n",
              "      <td>2554</td>\n",
              "      <td>1709.05</td>\n",
              "      <td>1.0</td>\n",
              "    </tr>\n",
              "    <tr>\n",
              "      <th>4</th>\n",
              "      <td>15.01.2013</td>\n",
              "      <td>0</td>\n",
              "      <td>25</td>\n",
              "      <td>2555</td>\n",
              "      <td>1099.00</td>\n",
              "      <td>1.0</td>\n",
              "    </tr>\n",
              "  </tbody>\n",
              "</table>\n",
              "</div>"
            ],
            "text/plain": [
              "         date  date_block_num  shop_id  item_id  item_price  item_cnt_day\n",
              "0  02.01.2013               0       59    22154      999.00           1.0\n",
              "1  03.01.2013               0       25     2552      899.00           1.0\n",
              "2  05.01.2013               0       25     2552      899.00          -1.0\n",
              "3  06.01.2013               0       25     2554     1709.05           1.0\n",
              "4  15.01.2013               0       25     2555     1099.00           1.0"
            ]
          },
          "metadata": {
            "tags": []
          },
          "execution_count": 47
        }
      ]
    },
    {
      "cell_type": "code",
      "metadata": {
        "colab": {
          "base_uri": "https://localhost:8080/",
          "height": 204
        },
        "id": "6TZoPBuxJkus",
        "outputId": "c3a524b7-407e-4b1c-f40f-2e11ad19db38"
      },
      "source": [
        "test.head()"
      ],
      "execution_count": 57,
      "outputs": [
        {
          "output_type": "execute_result",
          "data": {
            "text/html": [
              "<div>\n",
              "<style scoped>\n",
              "    .dataframe tbody tr th:only-of-type {\n",
              "        vertical-align: middle;\n",
              "    }\n",
              "\n",
              "    .dataframe tbody tr th {\n",
              "        vertical-align: top;\n",
              "    }\n",
              "\n",
              "    .dataframe thead th {\n",
              "        text-align: right;\n",
              "    }\n",
              "</style>\n",
              "<table border=\"1\" class=\"dataframe\">\n",
              "  <thead>\n",
              "    <tr style=\"text-align: right;\">\n",
              "      <th></th>\n",
              "      <th>ID</th>\n",
              "      <th>shop_id</th>\n",
              "      <th>item_id</th>\n",
              "    </tr>\n",
              "  </thead>\n",
              "  <tbody>\n",
              "    <tr>\n",
              "      <th>0</th>\n",
              "      <td>0</td>\n",
              "      <td>5</td>\n",
              "      <td>5037</td>\n",
              "    </tr>\n",
              "    <tr>\n",
              "      <th>1</th>\n",
              "      <td>1</td>\n",
              "      <td>5</td>\n",
              "      <td>5320</td>\n",
              "    </tr>\n",
              "    <tr>\n",
              "      <th>2</th>\n",
              "      <td>2</td>\n",
              "      <td>5</td>\n",
              "      <td>5233</td>\n",
              "    </tr>\n",
              "    <tr>\n",
              "      <th>3</th>\n",
              "      <td>3</td>\n",
              "      <td>5</td>\n",
              "      <td>5232</td>\n",
              "    </tr>\n",
              "    <tr>\n",
              "      <th>4</th>\n",
              "      <td>4</td>\n",
              "      <td>5</td>\n",
              "      <td>5268</td>\n",
              "    </tr>\n",
              "  </tbody>\n",
              "</table>\n",
              "</div>"
            ],
            "text/plain": [
              "   ID  shop_id  item_id\n",
              "0   0        5     5037\n",
              "1   1        5     5320\n",
              "2   2        5     5233\n",
              "3   3        5     5232\n",
              "4   4        5     5268"
            ]
          },
          "metadata": {
            "tags": []
          },
          "execution_count": 57
        }
      ]
    },
    {
      "cell_type": "code",
      "metadata": {
        "id": "Ye-p3H7JLQ7D",
        "colab": {
          "base_uri": "https://localhost:8080/",
          "height": 204
        },
        "outputId": "2dcacc77-547e-403a-b38b-59db18e4f0c0"
      },
      "source": [
        "#We are asking you to predict total sales for every product and store in the next month.\n",
        "from datetime import datetime, date\n",
        "from dateutil.relativedelta import relativedelta\n",
        "train = train.set_index('item_id').join(items.set_index('item_id')).drop('item_name', axis=1).reset_index()\n",
        "train['month'] = train.date.apply(lambda x: datetime.strptime(x, '%d.%m.%Y').strftime('%m'))\n",
        "train['year'] = train.date.apply(lambda x: datetime.strptime(x, '%d.%m.%Y').strftime('%Y'))\n",
        "train = train.query('item_cnt_day >= 0 and item_cnt_day <= 125 and item_price < 75000')\n",
        "#train = train.drop('date', axis=1)\n",
        "#train = train.drop('date_block_num', axis=1)\n",
        "train.head()"
      ],
      "execution_count": 48,
      "outputs": [
        {
          "output_type": "execute_result",
          "data": {
            "text/html": [
              "<div>\n",
              "<style scoped>\n",
              "    .dataframe tbody tr th:only-of-type {\n",
              "        vertical-align: middle;\n",
              "    }\n",
              "\n",
              "    .dataframe tbody tr th {\n",
              "        vertical-align: top;\n",
              "    }\n",
              "\n",
              "    .dataframe thead th {\n",
              "        text-align: right;\n",
              "    }\n",
              "</style>\n",
              "<table border=\"1\" class=\"dataframe\">\n",
              "  <thead>\n",
              "    <tr style=\"text-align: right;\">\n",
              "      <th></th>\n",
              "      <th>item_id</th>\n",
              "      <th>date</th>\n",
              "      <th>date_block_num</th>\n",
              "      <th>shop_id</th>\n",
              "      <th>item_price</th>\n",
              "      <th>item_cnt_day</th>\n",
              "      <th>item_category_id</th>\n",
              "      <th>month</th>\n",
              "      <th>year</th>\n",
              "    </tr>\n",
              "  </thead>\n",
              "  <tbody>\n",
              "    <tr>\n",
              "      <th>0</th>\n",
              "      <td>0</td>\n",
              "      <td>01.09.2014</td>\n",
              "      <td>20</td>\n",
              "      <td>54</td>\n",
              "      <td>58.0</td>\n",
              "      <td>1.0</td>\n",
              "      <td>40</td>\n",
              "      <td>09</td>\n",
              "      <td>2014</td>\n",
              "    </tr>\n",
              "    <tr>\n",
              "      <th>1</th>\n",
              "      <td>1</td>\n",
              "      <td>04.04.2014</td>\n",
              "      <td>15</td>\n",
              "      <td>55</td>\n",
              "      <td>4490.0</td>\n",
              "      <td>1.0</td>\n",
              "      <td>76</td>\n",
              "      <td>04</td>\n",
              "      <td>2014</td>\n",
              "    </tr>\n",
              "    <tr>\n",
              "      <th>2</th>\n",
              "      <td>1</td>\n",
              "      <td>02.04.2014</td>\n",
              "      <td>15</td>\n",
              "      <td>55</td>\n",
              "      <td>4490.0</td>\n",
              "      <td>1.0</td>\n",
              "      <td>76</td>\n",
              "      <td>04</td>\n",
              "      <td>2014</td>\n",
              "    </tr>\n",
              "    <tr>\n",
              "      <th>3</th>\n",
              "      <td>1</td>\n",
              "      <td>06.07.2014</td>\n",
              "      <td>18</td>\n",
              "      <td>55</td>\n",
              "      <td>4490.0</td>\n",
              "      <td>1.0</td>\n",
              "      <td>76</td>\n",
              "      <td>07</td>\n",
              "      <td>2014</td>\n",
              "    </tr>\n",
              "    <tr>\n",
              "      <th>4</th>\n",
              "      <td>1</td>\n",
              "      <td>04.08.2014</td>\n",
              "      <td>19</td>\n",
              "      <td>55</td>\n",
              "      <td>4490.0</td>\n",
              "      <td>1.0</td>\n",
              "      <td>76</td>\n",
              "      <td>08</td>\n",
              "      <td>2014</td>\n",
              "    </tr>\n",
              "  </tbody>\n",
              "</table>\n",
              "</div>"
            ],
            "text/plain": [
              "   item_id        date  date_block_num  ...  item_category_id  month  year\n",
              "0        0  01.09.2014              20  ...                40     09  2014\n",
              "1        1  04.04.2014              15  ...                76     04  2014\n",
              "2        1  02.04.2014              15  ...                76     04  2014\n",
              "3        1  06.07.2014              18  ...                76     07  2014\n",
              "4        1  04.08.2014              19  ...                76     08  2014\n",
              "\n",
              "[5 rows x 9 columns]"
            ]
          },
          "metadata": {
            "tags": []
          },
          "execution_count": 48
        }
      ]
    },
    {
      "cell_type": "code",
      "metadata": {
        "colab": {
          "base_uri": "https://localhost:8080/",
          "height": 300
        },
        "id": "KYsFKZ3Zvjg5",
        "outputId": "6c3039ab-c0e4-4d9f-8a33-8c5ae2aeda28"
      },
      "source": [
        "train_m=train.groupby([\"date_block_num\",\"shop_id\",\"item_id\"])[\"date_block_num\",\"date\",\"item_price\",\"item_cnt_day\"].agg(\r\n",
        "    {\"date_block_num\":'mean',\"date\":[\"min\",'max'],\"item_price\":\"mean\",\"item_cnt_day\":\"sum\"})\r\n",
        "\r\n",
        "train_m.head(5)"
      ],
      "execution_count": 45,
      "outputs": [
        {
          "output_type": "stream",
          "text": [
            "/usr/local/lib/python3.6/dist-packages/ipykernel_launcher.py:1: FutureWarning: Indexing with multiple keys (implicitly converted to a tuple of keys) will be deprecated, use a list instead.\n",
            "  \"\"\"Entry point for launching an IPython kernel.\n"
          ],
          "name": "stderr"
        },
        {
          "output_type": "execute_result",
          "data": {
            "text/html": [
              "<div>\n",
              "<style scoped>\n",
              "    .dataframe tbody tr th:only-of-type {\n",
              "        vertical-align: middle;\n",
              "    }\n",
              "\n",
              "    .dataframe tbody tr th {\n",
              "        vertical-align: top;\n",
              "    }\n",
              "\n",
              "    .dataframe thead tr th {\n",
              "        text-align: left;\n",
              "    }\n",
              "\n",
              "    .dataframe thead tr:last-of-type th {\n",
              "        text-align: right;\n",
              "    }\n",
              "</style>\n",
              "<table border=\"1\" class=\"dataframe\">\n",
              "  <thead>\n",
              "    <tr>\n",
              "      <th></th>\n",
              "      <th></th>\n",
              "      <th></th>\n",
              "      <th>date_block_num</th>\n",
              "      <th colspan=\"2\" halign=\"left\">date</th>\n",
              "      <th>item_price</th>\n",
              "      <th>item_cnt_day</th>\n",
              "    </tr>\n",
              "    <tr>\n",
              "      <th></th>\n",
              "      <th></th>\n",
              "      <th></th>\n",
              "      <th>mean</th>\n",
              "      <th>min</th>\n",
              "      <th>max</th>\n",
              "      <th>mean</th>\n",
              "      <th>sum</th>\n",
              "    </tr>\n",
              "    <tr>\n",
              "      <th>date_block_num</th>\n",
              "      <th>shop_id</th>\n",
              "      <th>item_id</th>\n",
              "      <th></th>\n",
              "      <th></th>\n",
              "      <th></th>\n",
              "      <th></th>\n",
              "      <th></th>\n",
              "    </tr>\n",
              "  </thead>\n",
              "  <tbody>\n",
              "    <tr>\n",
              "      <th rowspan=\"5\" valign=\"top\">0</th>\n",
              "      <th rowspan=\"5\" valign=\"top\">0</th>\n",
              "      <th>32</th>\n",
              "      <td>0</td>\n",
              "      <td>03.01.2013</td>\n",
              "      <td>31.01.2013</td>\n",
              "      <td>221.0</td>\n",
              "      <td>6.0</td>\n",
              "    </tr>\n",
              "    <tr>\n",
              "      <th>33</th>\n",
              "      <td>0</td>\n",
              "      <td>03.01.2013</td>\n",
              "      <td>28.01.2013</td>\n",
              "      <td>347.0</td>\n",
              "      <td>3.0</td>\n",
              "    </tr>\n",
              "    <tr>\n",
              "      <th>35</th>\n",
              "      <td>0</td>\n",
              "      <td>31.01.2013</td>\n",
              "      <td>31.01.2013</td>\n",
              "      <td>247.0</td>\n",
              "      <td>1.0</td>\n",
              "    </tr>\n",
              "    <tr>\n",
              "      <th>43</th>\n",
              "      <td>0</td>\n",
              "      <td>31.01.2013</td>\n",
              "      <td>31.01.2013</td>\n",
              "      <td>221.0</td>\n",
              "      <td>1.0</td>\n",
              "    </tr>\n",
              "    <tr>\n",
              "      <th>51</th>\n",
              "      <td>0</td>\n",
              "      <td>13.01.2013</td>\n",
              "      <td>31.01.2013</td>\n",
              "      <td>128.5</td>\n",
              "      <td>2.0</td>\n",
              "    </tr>\n",
              "  </tbody>\n",
              "</table>\n",
              "</div>"
            ],
            "text/plain": [
              "                               date_block_num  ... item_cnt_day\n",
              "                                         mean  ...          sum\n",
              "date_block_num shop_id item_id                 ...             \n",
              "0              0       32                   0  ...          6.0\n",
              "                       33                   0  ...          3.0\n",
              "                       35                   0  ...          1.0\n",
              "                       43                   0  ...          1.0\n",
              "                       51                   0  ...          2.0\n",
              "\n",
              "[5 rows x 5 columns]"
            ]
          },
          "metadata": {
            "tags": []
          },
          "execution_count": 45
        }
      ]
    },
    {
      "cell_type": "code",
      "metadata": {
        "colab": {
          "base_uri": "https://localhost:8080/",
          "height": 669
        },
        "id": "2kvH1GQ7yvaA",
        "outputId": "a5c13475-7a0e-4657-885b-6635720688c3"
      },
      "source": [
        "train_flat = train_m.item_cnt_day.apply(list).reset_index()\r\n",
        "train_flat = pd.merge(test,train_flat,on = ['item_id','shop_id'],how = 'left')\r\n",
        "train_flat.fillna(0,inplace = True)\r\n",
        "train_flat.drop(['shop_id','item_id'],inplace = True, axis = 1)\r\n",
        "train_flat.head(20)"
      ],
      "execution_count": 49,
      "outputs": [
        {
          "output_type": "execute_result",
          "data": {
            "text/html": [
              "<div>\n",
              "<style scoped>\n",
              "    .dataframe tbody tr th:only-of-type {\n",
              "        vertical-align: middle;\n",
              "    }\n",
              "\n",
              "    .dataframe tbody tr th {\n",
              "        vertical-align: top;\n",
              "    }\n",
              "\n",
              "    .dataframe thead th {\n",
              "        text-align: right;\n",
              "    }\n",
              "</style>\n",
              "<table border=\"1\" class=\"dataframe\">\n",
              "  <thead>\n",
              "    <tr style=\"text-align: right;\">\n",
              "      <th></th>\n",
              "      <th>ID</th>\n",
              "      <th>date_block_num</th>\n",
              "      <th>sum</th>\n",
              "    </tr>\n",
              "  </thead>\n",
              "  <tbody>\n",
              "    <tr>\n",
              "      <th>0</th>\n",
              "      <td>0</td>\n",
              "      <td>20.0</td>\n",
              "      <td>1.0</td>\n",
              "    </tr>\n",
              "    <tr>\n",
              "      <th>1</th>\n",
              "      <td>0</td>\n",
              "      <td>22.0</td>\n",
              "      <td>1.0</td>\n",
              "    </tr>\n",
              "    <tr>\n",
              "      <th>2</th>\n",
              "      <td>0</td>\n",
              "      <td>23.0</td>\n",
              "      <td>2.0</td>\n",
              "    </tr>\n",
              "    <tr>\n",
              "      <th>3</th>\n",
              "      <td>0</td>\n",
              "      <td>24.0</td>\n",
              "      <td>2.0</td>\n",
              "    </tr>\n",
              "    <tr>\n",
              "      <th>4</th>\n",
              "      <td>0</td>\n",
              "      <td>28.0</td>\n",
              "      <td>1.0</td>\n",
              "    </tr>\n",
              "    <tr>\n",
              "      <th>5</th>\n",
              "      <td>0</td>\n",
              "      <td>29.0</td>\n",
              "      <td>1.0</td>\n",
              "    </tr>\n",
              "    <tr>\n",
              "      <th>6</th>\n",
              "      <td>0</td>\n",
              "      <td>30.0</td>\n",
              "      <td>1.0</td>\n",
              "    </tr>\n",
              "    <tr>\n",
              "      <th>7</th>\n",
              "      <td>0</td>\n",
              "      <td>31.0</td>\n",
              "      <td>3.0</td>\n",
              "    </tr>\n",
              "    <tr>\n",
              "      <th>8</th>\n",
              "      <td>0</td>\n",
              "      <td>32.0</td>\n",
              "      <td>1.0</td>\n",
              "    </tr>\n",
              "    <tr>\n",
              "      <th>9</th>\n",
              "      <td>1</td>\n",
              "      <td>0.0</td>\n",
              "      <td>0.0</td>\n",
              "    </tr>\n",
              "    <tr>\n",
              "      <th>10</th>\n",
              "      <td>2</td>\n",
              "      <td>28.0</td>\n",
              "      <td>3.0</td>\n",
              "    </tr>\n",
              "    <tr>\n",
              "      <th>11</th>\n",
              "      <td>2</td>\n",
              "      <td>29.0</td>\n",
              "      <td>2.0</td>\n",
              "    </tr>\n",
              "    <tr>\n",
              "      <th>12</th>\n",
              "      <td>2</td>\n",
              "      <td>31.0</td>\n",
              "      <td>1.0</td>\n",
              "    </tr>\n",
              "    <tr>\n",
              "      <th>13</th>\n",
              "      <td>2</td>\n",
              "      <td>32.0</td>\n",
              "      <td>3.0</td>\n",
              "    </tr>\n",
              "    <tr>\n",
              "      <th>14</th>\n",
              "      <td>2</td>\n",
              "      <td>33.0</td>\n",
              "      <td>1.0</td>\n",
              "    </tr>\n",
              "    <tr>\n",
              "      <th>15</th>\n",
              "      <td>3</td>\n",
              "      <td>31.0</td>\n",
              "      <td>1.0</td>\n",
              "    </tr>\n",
              "    <tr>\n",
              "      <th>16</th>\n",
              "      <td>4</td>\n",
              "      <td>0.0</td>\n",
              "      <td>0.0</td>\n",
              "    </tr>\n",
              "    <tr>\n",
              "      <th>17</th>\n",
              "      <td>5</td>\n",
              "      <td>20.0</td>\n",
              "      <td>2.0</td>\n",
              "    </tr>\n",
              "    <tr>\n",
              "      <th>18</th>\n",
              "      <td>5</td>\n",
              "      <td>23.0</td>\n",
              "      <td>3.0</td>\n",
              "    </tr>\n",
              "    <tr>\n",
              "      <th>19</th>\n",
              "      <td>5</td>\n",
              "      <td>24.0</td>\n",
              "      <td>1.0</td>\n",
              "    </tr>\n",
              "  </tbody>\n",
              "</table>\n",
              "</div>"
            ],
            "text/plain": [
              "    ID  date_block_num  sum\n",
              "0    0            20.0  1.0\n",
              "1    0            22.0  1.0\n",
              "2    0            23.0  2.0\n",
              "3    0            24.0  2.0\n",
              "4    0            28.0  1.0\n",
              "5    0            29.0  1.0\n",
              "6    0            30.0  1.0\n",
              "7    0            31.0  3.0\n",
              "8    0            32.0  1.0\n",
              "9    1             0.0  0.0\n",
              "10   2            28.0  3.0\n",
              "11   2            29.0  2.0\n",
              "12   2            31.0  1.0\n",
              "13   2            32.0  3.0\n",
              "14   2            33.0  1.0\n",
              "15   3            31.0  1.0\n",
              "16   4             0.0  0.0\n",
              "17   5            20.0  2.0\n",
              "18   5            23.0  3.0\n",
              "19   5            24.0  1.0"
            ]
          },
          "metadata": {
            "tags": []
          },
          "execution_count": 49
        }
      ]
    },
    {
      "cell_type": "code",
      "metadata": {
        "colab": {
          "base_uri": "https://localhost:8080/",
          "height": 193
        },
        "id": "aeghuKncyxZP",
        "outputId": "50030a56-9881-4633-f9c0-03bf5abf4720"
      },
      "source": [
        "pivoted_train = train_flat.pivot_table(index='ID', columns='date_block_num',fill_value = 0,aggfunc='sum' )\r\n",
        "pivoted_train.head(2)"
      ],
      "execution_count": 52,
      "outputs": [
        {
          "output_type": "execute_result",
          "data": {
            "text/html": [
              "<div>\n",
              "<style scoped>\n",
              "    .dataframe tbody tr th:only-of-type {\n",
              "        vertical-align: middle;\n",
              "    }\n",
              "\n",
              "    .dataframe tbody tr th {\n",
              "        vertical-align: top;\n",
              "    }\n",
              "\n",
              "    .dataframe thead tr th {\n",
              "        text-align: left;\n",
              "    }\n",
              "\n",
              "    .dataframe thead tr:last-of-type th {\n",
              "        text-align: right;\n",
              "    }\n",
              "</style>\n",
              "<table border=\"1\" class=\"dataframe\">\n",
              "  <thead>\n",
              "    <tr>\n",
              "      <th></th>\n",
              "      <th colspan=\"34\" halign=\"left\">sum</th>\n",
              "    </tr>\n",
              "    <tr>\n",
              "      <th>date_block_num</th>\n",
              "      <th>0.0</th>\n",
              "      <th>1.0</th>\n",
              "      <th>2.0</th>\n",
              "      <th>3.0</th>\n",
              "      <th>4.0</th>\n",
              "      <th>5.0</th>\n",
              "      <th>6.0</th>\n",
              "      <th>7.0</th>\n",
              "      <th>8.0</th>\n",
              "      <th>9.0</th>\n",
              "      <th>10.0</th>\n",
              "      <th>11.0</th>\n",
              "      <th>12.0</th>\n",
              "      <th>13.0</th>\n",
              "      <th>14.0</th>\n",
              "      <th>15.0</th>\n",
              "      <th>16.0</th>\n",
              "      <th>17.0</th>\n",
              "      <th>18.0</th>\n",
              "      <th>19.0</th>\n",
              "      <th>20.0</th>\n",
              "      <th>21.0</th>\n",
              "      <th>22.0</th>\n",
              "      <th>23.0</th>\n",
              "      <th>24.0</th>\n",
              "      <th>25.0</th>\n",
              "      <th>26.0</th>\n",
              "      <th>27.0</th>\n",
              "      <th>28.0</th>\n",
              "      <th>29.0</th>\n",
              "      <th>30.0</th>\n",
              "      <th>31.0</th>\n",
              "      <th>32.0</th>\n",
              "      <th>33.0</th>\n",
              "    </tr>\n",
              "    <tr>\n",
              "      <th>ID</th>\n",
              "      <th></th>\n",
              "      <th></th>\n",
              "      <th></th>\n",
              "      <th></th>\n",
              "      <th></th>\n",
              "      <th></th>\n",
              "      <th></th>\n",
              "      <th></th>\n",
              "      <th></th>\n",
              "      <th></th>\n",
              "      <th></th>\n",
              "      <th></th>\n",
              "      <th></th>\n",
              "      <th></th>\n",
              "      <th></th>\n",
              "      <th></th>\n",
              "      <th></th>\n",
              "      <th></th>\n",
              "      <th></th>\n",
              "      <th></th>\n",
              "      <th></th>\n",
              "      <th></th>\n",
              "      <th></th>\n",
              "      <th></th>\n",
              "      <th></th>\n",
              "      <th></th>\n",
              "      <th></th>\n",
              "      <th></th>\n",
              "      <th></th>\n",
              "      <th></th>\n",
              "      <th></th>\n",
              "      <th></th>\n",
              "      <th></th>\n",
              "      <th></th>\n",
              "    </tr>\n",
              "  </thead>\n",
              "  <tbody>\n",
              "    <tr>\n",
              "      <th>0</th>\n",
              "      <td>0</td>\n",
              "      <td>0</td>\n",
              "      <td>0</td>\n",
              "      <td>0</td>\n",
              "      <td>0</td>\n",
              "      <td>0</td>\n",
              "      <td>0</td>\n",
              "      <td>0</td>\n",
              "      <td>0</td>\n",
              "      <td>0</td>\n",
              "      <td>0</td>\n",
              "      <td>0</td>\n",
              "      <td>0</td>\n",
              "      <td>0</td>\n",
              "      <td>0</td>\n",
              "      <td>0</td>\n",
              "      <td>0</td>\n",
              "      <td>0</td>\n",
              "      <td>0</td>\n",
              "      <td>0</td>\n",
              "      <td>1</td>\n",
              "      <td>0</td>\n",
              "      <td>1</td>\n",
              "      <td>2</td>\n",
              "      <td>2</td>\n",
              "      <td>0</td>\n",
              "      <td>0</td>\n",
              "      <td>0</td>\n",
              "      <td>1</td>\n",
              "      <td>1</td>\n",
              "      <td>1</td>\n",
              "      <td>3</td>\n",
              "      <td>1</td>\n",
              "      <td>0</td>\n",
              "    </tr>\n",
              "    <tr>\n",
              "      <th>1</th>\n",
              "      <td>0</td>\n",
              "      <td>0</td>\n",
              "      <td>0</td>\n",
              "      <td>0</td>\n",
              "      <td>0</td>\n",
              "      <td>0</td>\n",
              "      <td>0</td>\n",
              "      <td>0</td>\n",
              "      <td>0</td>\n",
              "      <td>0</td>\n",
              "      <td>0</td>\n",
              "      <td>0</td>\n",
              "      <td>0</td>\n",
              "      <td>0</td>\n",
              "      <td>0</td>\n",
              "      <td>0</td>\n",
              "      <td>0</td>\n",
              "      <td>0</td>\n",
              "      <td>0</td>\n",
              "      <td>0</td>\n",
              "      <td>0</td>\n",
              "      <td>0</td>\n",
              "      <td>0</td>\n",
              "      <td>0</td>\n",
              "      <td>0</td>\n",
              "      <td>0</td>\n",
              "      <td>0</td>\n",
              "      <td>0</td>\n",
              "      <td>0</td>\n",
              "      <td>0</td>\n",
              "      <td>0</td>\n",
              "      <td>0</td>\n",
              "      <td>0</td>\n",
              "      <td>0</td>\n",
              "    </tr>\n",
              "  </tbody>\n",
              "</table>\n",
              "</div>"
            ],
            "text/plain": [
              "                sum                           ...                              \n",
              "date_block_num 0.0  1.0  2.0  3.0  4.0  5.0   ... 28.0 29.0 30.0 31.0 32.0 33.0\n",
              "ID                                            ...                              \n",
              "0                 0    0    0    0    0    0  ...    1    1    1    3    1    0\n",
              "1                 0    0    0    0    0    0  ...    0    0    0    0    0    0\n",
              "\n",
              "[2 rows x 34 columns]"
            ]
          },
          "metadata": {
            "tags": []
          },
          "execution_count": 52
        }
      ]
    },
    {
      "cell_type": "code",
      "metadata": {
        "colab": {
          "base_uri": "https://localhost:8080/"
        },
        "id": "TIKO5gC4yxQM",
        "outputId": "5a81c5e3-d0f4-4167-eb49-21459b7a9397"
      },
      "source": [
        "X_train = sales_data_flat[[\"ID\", \"date_block_num\"]]\r\n",
        "y_train = sales_data_flat[[\"sum\"]]\r\n",
        "\r\n",
        "X_train_p = np.expand_dims(pivoted_train.values[:,:-1],axis = 2)\r\n",
        "y_train_p = pivoted_train.values[:,-1:]\r\n",
        "X_test_p = np.expand_dims(pivoted_train.values[:,1:],axis = 2)\r\n",
        "\r\n",
        "X_train.shape"
      ],
      "execution_count": 61,
      "outputs": [
        {
          "output_type": "execute_result",
          "data": {
            "text/plain": [
              "(702955, 2)"
            ]
          },
          "metadata": {
            "tags": []
          },
          "execution_count": 61
        }
      ]
    },
    {
      "cell_type": "markdown",
      "metadata": {
        "id": "fJT4dD8FF1SW"
      },
      "source": [
        "Neural Network:"
      ]
    },
    {
      "cell_type": "code",
      "metadata": {
        "id": "QNHoGMRbF0qp",
        "colab": {
          "base_uri": "https://localhost:8080/"
        },
        "outputId": "3982dcb4-a824-4976-fbfb-16679227d876"
      },
      "source": [
        "from keras.models import Sequential\n",
        "from keras.layers import LSTM,Dense,Dropout\n",
        "from keras.models import load_model, Model\n",
        "\n",
        "lstm_model = Sequential()\n",
        "lstm_model.add(LSTM(units = 64,input_shape = (33,1)))\n",
        "lstm_model.add(Dropout(0.4))\n",
        "lstm_model.add(Dense(1))\n",
        "\n",
        "lstm_model.compile(loss = 'mse',optimizer = 'adam', metrics = ['mean_squared_error'])\n",
        "lstm_model.summary()"
      ],
      "execution_count": 92,
      "outputs": [
        {
          "output_type": "stream",
          "text": [
            "Model: \"sequential_12\"\n",
            "_________________________________________________________________\n",
            "Layer (type)                 Output Shape              Param #   \n",
            "=================================================================\n",
            "lstm_7 (LSTM)                (None, 64)                16896     \n",
            "_________________________________________________________________\n",
            "dropout_11 (Dropout)         (None, 64)                0         \n",
            "_________________________________________________________________\n",
            "dense_18 (Dense)             (None, 1)                 65        \n",
            "=================================================================\n",
            "Total params: 16,961\n",
            "Trainable params: 16,961\n",
            "Non-trainable params: 0\n",
            "_________________________________________________________________\n"
          ],
          "name": "stdout"
        }
      ]
    },
    {
      "cell_type": "code",
      "metadata": {
        "colab": {
          "base_uri": "https://localhost:8080/"
        },
        "id": "4h5j4AGoWQiN",
        "outputId": "f20d75ff-e0d5-4750-93d5-33aec3d33304"
      },
      "source": [
        "from keras.models import Sequential\r\n",
        "from keras.layers import Input,Dense,Dropout\r\n",
        "from keras.models import load_model, Model\r\n",
        "\r\n",
        "other_model = Sequential()\r\n",
        "other_model.add(Input((33,1)))\r\n",
        "other_model.add(Dense(64, activation=\"sigmoid\"))\r\n",
        "other_model.add(Dropout(0.5))\r\n",
        "other_model.add(Dense(32, activation=\"relu\"))\r\n",
        "other_model.add(Dense(1))\r\n",
        "\r\n",
        "other_model.compile(loss = 'mse',optimizer = 'adam', metrics = ['mean_squared_error'])\r\n",
        "other_model.summary()"
      ],
      "execution_count": 88,
      "outputs": [
        {
          "output_type": "stream",
          "text": [
            "Model: \"sequential_10\"\n",
            "_________________________________________________________________\n",
            "Layer (type)                 Output Shape              Param #   \n",
            "=================================================================\n",
            "dense_14 (Dense)             (None, 33, 64)            128       \n",
            "_________________________________________________________________\n",
            "dropout_9 (Dropout)          (None, 33, 64)            0         \n",
            "_________________________________________________________________\n",
            "dense_15 (Dense)             (None, 33, 32)            2080      \n",
            "_________________________________________________________________\n",
            "dense_16 (Dense)             (None, 33, 1)             33        \n",
            "=================================================================\n",
            "Total params: 2,241\n",
            "Trainable params: 2,241\n",
            "Non-trainable params: 0\n",
            "_________________________________________________________________\n"
          ],
          "name": "stdout"
        }
      ]
    },
    {
      "cell_type": "code",
      "metadata": {
        "colab": {
          "base_uri": "https://localhost:8080/"
        },
        "id": "GFMfPVpIzVaw",
        "outputId": "eab39e3d-370e-42fc-fac1-a9d9983b6fc3"
      },
      "source": [
        "lstm_model.fit(X_train_p,y_train_p,batch_size = 4096,epochs = 20)"
      ],
      "execution_count": 93,
      "outputs": [
        {
          "output_type": "stream",
          "text": [
            "Epoch 1/20\n",
            "53/53 [==============================] - 34s 638ms/step - loss: 30.7109 - mean_squared_error: 30.7109\n",
            "Epoch 2/20\n",
            "53/53 [==============================] - 33s 630ms/step - loss: 30.3383 - mean_squared_error: 30.3383\n",
            "Epoch 3/20\n",
            "53/53 [==============================] - 33s 627ms/step - loss: 30.0751 - mean_squared_error: 30.0751\n",
            "Epoch 4/20\n",
            "53/53 [==============================] - 33s 627ms/step - loss: 29.9870 - mean_squared_error: 29.9870\n",
            "Epoch 5/20\n",
            "53/53 [==============================] - 33s 626ms/step - loss: 29.8561 - mean_squared_error: 29.8561\n",
            "Epoch 6/20\n",
            "53/53 [==============================] - 33s 622ms/step - loss: 29.7886 - mean_squared_error: 29.7886\n",
            "Epoch 7/20\n",
            "53/53 [==============================] - 33s 626ms/step - loss: 29.6750 - mean_squared_error: 29.6750\n",
            "Epoch 8/20\n",
            "53/53 [==============================] - 33s 630ms/step - loss: 29.6001 - mean_squared_error: 29.6001\n",
            "Epoch 9/20\n",
            "53/53 [==============================] - 34s 647ms/step - loss: 29.4868 - mean_squared_error: 29.4868\n",
            "Epoch 10/20\n",
            "53/53 [==============================] - 34s 638ms/step - loss: 29.5167 - mean_squared_error: 29.5167\n",
            "Epoch 11/20\n",
            "53/53 [==============================] - 34s 632ms/step - loss: 29.4176 - mean_squared_error: 29.4176\n",
            "Epoch 12/20\n",
            "53/53 [==============================] - 34s 634ms/step - loss: 29.3449 - mean_squared_error: 29.3449\n",
            "Epoch 13/20\n",
            "53/53 [==============================] - 34s 643ms/step - loss: 29.3048 - mean_squared_error: 29.3048\n",
            "Epoch 14/20\n",
            "53/53 [==============================] - 34s 640ms/step - loss: 29.3252 - mean_squared_error: 29.3252\n",
            "Epoch 15/20\n",
            "53/53 [==============================] - 34s 642ms/step - loss: 29.2884 - mean_squared_error: 29.2884\n",
            "Epoch 16/20\n",
            "53/53 [==============================] - 34s 636ms/step - loss: 29.2181 - mean_squared_error: 29.2181\n",
            "Epoch 17/20\n",
            "53/53 [==============================] - 34s 638ms/step - loss: 29.2040 - mean_squared_error: 29.2040\n",
            "Epoch 18/20\n",
            "53/53 [==============================] - 35s 652ms/step - loss: 29.0654 - mean_squared_error: 29.0654\n",
            "Epoch 19/20\n",
            "53/53 [==============================] - 35s 652ms/step - loss: 29.1207 - mean_squared_error: 29.1207\n",
            "Epoch 20/20\n",
            "53/53 [==============================] - 34s 636ms/step - loss: 29.0136 - mean_squared_error: 29.0136\n"
          ],
          "name": "stdout"
        },
        {
          "output_type": "execute_result",
          "data": {
            "text/plain": [
              "<tensorflow.python.keras.callbacks.History at 0x7fecdb8ccd68>"
            ]
          },
          "metadata": {
            "tags": []
          },
          "execution_count": 93
        }
      ]
    },
    {
      "cell_type": "code",
      "metadata": {
        "colab": {
          "base_uri": "https://localhost:8080/"
        },
        "id": "nIehG17-XBaV",
        "outputId": "3ec61c05-55b0-4676-d4ff-39d097654546"
      },
      "source": [
        "other_model.fit(X_train_p,y_train_p,batch_size = 4096,epochs = 20)"
      ],
      "execution_count": 89,
      "outputs": [
        {
          "output_type": "stream",
          "text": [
            "Epoch 1/20\n",
            "53/53 [==============================] - 10s 182ms/step - loss: 31.0082 - mean_squared_error: 31.0082\n",
            "Epoch 2/20\n",
            "53/53 [==============================] - 10s 182ms/step - loss: 30.8284 - mean_squared_error: 30.8284\n",
            "Epoch 3/20\n",
            "53/53 [==============================] - 10s 181ms/step - loss: 30.7593 - mean_squared_error: 30.7593\n",
            "Epoch 4/20\n",
            "53/53 [==============================] - 10s 184ms/step - loss: 30.7181 - mean_squared_error: 30.7181\n",
            "Epoch 5/20\n",
            "53/53 [==============================] - 10s 183ms/step - loss: 30.6666 - mean_squared_error: 30.6666\n",
            "Epoch 6/20\n",
            "53/53 [==============================] - 10s 181ms/step - loss: 30.6132 - mean_squared_error: 30.6132\n",
            "Epoch 7/20\n",
            "53/53 [==============================] - 10s 182ms/step - loss: 30.5556 - mean_squared_error: 30.5556\n",
            "Epoch 8/20\n",
            "53/53 [==============================] - 10s 181ms/step - loss: 30.4961 - mean_squared_error: 30.4961\n",
            "Epoch 9/20\n",
            "53/53 [==============================] - 10s 182ms/step - loss: 30.4350 - mean_squared_error: 30.4350\n",
            "Epoch 10/20\n",
            "53/53 [==============================] - 10s 182ms/step - loss: 30.3552 - mean_squared_error: 30.3552\n",
            "Epoch 11/20\n",
            "53/53 [==============================] - 10s 182ms/step - loss: 30.2880 - mean_squared_error: 30.2880\n",
            "Epoch 12/20\n",
            "53/53 [==============================] - 10s 182ms/step - loss: 30.1957 - mean_squared_error: 30.1957\n",
            "Epoch 13/20\n",
            "53/53 [==============================] - 10s 182ms/step - loss: 30.1297 - mean_squared_error: 30.1297\n",
            "Epoch 14/20\n",
            "53/53 [==============================] - 10s 184ms/step - loss: 30.0527 - mean_squared_error: 30.0527\n",
            "Epoch 15/20\n",
            "53/53 [==============================] - 10s 183ms/step - loss: 29.9576 - mean_squared_error: 29.9576\n",
            "Epoch 16/20\n",
            "53/53 [==============================] - 10s 183ms/step - loss: 29.9300 - mean_squared_error: 29.9300\n",
            "Epoch 17/20\n",
            "53/53 [==============================] - 10s 182ms/step - loss: 29.8353 - mean_squared_error: 29.8353\n",
            "Epoch 18/20\n",
            "53/53 [==============================] - 10s 182ms/step - loss: 29.7672 - mean_squared_error: 29.7672\n",
            "Epoch 19/20\n",
            "53/53 [==============================] - 10s 183ms/step - loss: 29.7074 - mean_squared_error: 29.7074\n",
            "Epoch 20/20\n",
            "53/53 [==============================] - 10s 182ms/step - loss: 29.6241 - mean_squared_error: 29.6241\n"
          ],
          "name": "stdout"
        },
        {
          "output_type": "execute_result",
          "data": {
            "text/plain": [
              "<tensorflow.python.keras.callbacks.History at 0x7fece161ce10>"
            ]
          },
          "metadata": {
            "tags": []
          },
          "execution_count": 89
        }
      ]
    },
    {
      "cell_type": "code",
      "metadata": {
        "colab": {
          "base_uri": "https://localhost:8080/",
          "height": 204
        },
        "id": "no2c6ByWzcRG",
        "outputId": "65a5df84-d07a-456d-b512-f8c84f786369"
      },
      "source": [
        "submission_output = other_model.predict(X_test_p)\r\n",
        "#submission_output = sales_model.predict(X_test_p)\r\n",
        "submission = pd.DataFrame({'ID':test['ID'],'item_cnt_month':submission_output.ravel()})\r\n",
        "\r\n",
        "submission.to_csv('submission_stacked.csv',index = False)\r\n",
        "submission.head()"
      ],
      "execution_count": 80,
      "outputs": [
        {
          "output_type": "execute_result",
          "data": {
            "text/html": [
              "<div>\n",
              "<style scoped>\n",
              "    .dataframe tbody tr th:only-of-type {\n",
              "        vertical-align: middle;\n",
              "    }\n",
              "\n",
              "    .dataframe tbody tr th {\n",
              "        vertical-align: top;\n",
              "    }\n",
              "\n",
              "    .dataframe thead th {\n",
              "        text-align: right;\n",
              "    }\n",
              "</style>\n",
              "<table border=\"1\" class=\"dataframe\">\n",
              "  <thead>\n",
              "    <tr style=\"text-align: right;\">\n",
              "      <th></th>\n",
              "      <th>ID</th>\n",
              "      <th>item_cnt_month</th>\n",
              "    </tr>\n",
              "  </thead>\n",
              "  <tbody>\n",
              "    <tr>\n",
              "      <th>0</th>\n",
              "      <td>0</td>\n",
              "      <td>0.454383</td>\n",
              "    </tr>\n",
              "    <tr>\n",
              "      <th>1</th>\n",
              "      <td>1</td>\n",
              "      <td>0.175963</td>\n",
              "    </tr>\n",
              "    <tr>\n",
              "      <th>2</th>\n",
              "      <td>2</td>\n",
              "      <td>0.620022</td>\n",
              "    </tr>\n",
              "    <tr>\n",
              "      <th>3</th>\n",
              "      <td>3</td>\n",
              "      <td>0.212913</td>\n",
              "    </tr>\n",
              "    <tr>\n",
              "      <th>4</th>\n",
              "      <td>4</td>\n",
              "      <td>0.175963</td>\n",
              "    </tr>\n",
              "  </tbody>\n",
              "</table>\n",
              "</div>"
            ],
            "text/plain": [
              "   ID  item_cnt_month\n",
              "0   0        0.454383\n",
              "1   1        0.175963\n",
              "2   2        0.620022\n",
              "3   3        0.212913\n",
              "4   4        0.175963"
            ]
          },
          "metadata": {
            "tags": []
          },
          "execution_count": 80
        }
      ]
    },
    {
      "cell_type": "code",
      "metadata": {
        "colab": {
          "base_uri": "https://localhost:8080/"
        },
        "id": "lNGCGmcqJNzL",
        "outputId": "9a2da89d-542e-4581-cb2a-552250c94f94"
      },
      "source": [
        "!kaggle competitions submit -c competitive-data-science-predict-future-sales -f submission_stacked.csv -m \"Test submission 2\""
      ],
      "execution_count": 81,
      "outputs": [
        {
          "output_type": "stream",
          "text": [
            "Warning: Looks like you're using an outdated API Version, please consider updating (server 1.5.10 / client 1.5.4)\n",
            "100% 3.44M/3.44M [00:00<00:00, 13.6MB/s]\n",
            "Successfully submitted to Predict Future Sales"
          ],
          "name": "stdout"
        }
      ]
    }
  ]
}