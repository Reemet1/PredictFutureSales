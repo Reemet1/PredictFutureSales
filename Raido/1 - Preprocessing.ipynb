{
 "cells": [
  {
   "cell_type": "code",
   "execution_count": 1,
   "metadata": {
    "scrolled": false
   },
   "outputs": [],
   "source": [
    "import numpy as np\n",
    "import pandas as pd\n",
    "import matplotlib.pyplot as plt\n",
    "import seaborn as sns"
   ]
  },
  {
   "cell_type": "code",
   "execution_count": 2,
   "metadata": {},
   "outputs": [],
   "source": [
    "# Let's load in the data. Each file will have its own dataframe.\n",
    "item_categories = pd.read_csv('data/item_categories.csv')\n",
    "items           = pd.read_csv('data/items.csv')\n",
    "shops           = pd.read_csv('data/shops.csv')\n",
    "\n",
    "train           = pd.read_csv('data/sales_train.csv')\n",
    "test            = pd.read_csv('data/test.csv')"
   ]
  },
  {
   "cell_type": "markdown",
   "metadata": {},
   "source": [
    "### Basic look through the data\n",
    "\n",
    "We'll go through the dataframes and see what's inside them."
   ]
  },
  {
   "cell_type": "code",
   "execution_count": 3,
   "metadata": {},
   "outputs": [
    {
     "data": {
      "text/html": [
       "<div>\n",
       "<style scoped>\n",
       "    .dataframe tbody tr th:only-of-type {\n",
       "        vertical-align: middle;\n",
       "    }\n",
       "\n",
       "    .dataframe tbody tr th {\n",
       "        vertical-align: top;\n",
       "    }\n",
       "\n",
       "    .dataframe thead th {\n",
       "        text-align: right;\n",
       "    }\n",
       "</style>\n",
       "<table border=\"1\" class=\"dataframe\">\n",
       "  <thead>\n",
       "    <tr style=\"text-align: right;\">\n",
       "      <th></th>\n",
       "      <th>item_category_name</th>\n",
       "      <th>item_category_id</th>\n",
       "    </tr>\n",
       "  </thead>\n",
       "  <tbody>\n",
       "    <tr>\n",
       "      <th>0</th>\n",
       "      <td>PC - Гарнитуры/Наушники</td>\n",
       "      <td>0</td>\n",
       "    </tr>\n",
       "    <tr>\n",
       "      <th>1</th>\n",
       "      <td>Аксессуары - PS2</td>\n",
       "      <td>1</td>\n",
       "    </tr>\n",
       "    <tr>\n",
       "      <th>2</th>\n",
       "      <td>Аксессуары - PS3</td>\n",
       "      <td>2</td>\n",
       "    </tr>\n",
       "    <tr>\n",
       "      <th>3</th>\n",
       "      <td>Аксессуары - PS4</td>\n",
       "      <td>3</td>\n",
       "    </tr>\n",
       "    <tr>\n",
       "      <th>4</th>\n",
       "      <td>Аксессуары - PSP</td>\n",
       "      <td>4</td>\n",
       "    </tr>\n",
       "  </tbody>\n",
       "</table>\n",
       "</div>"
      ],
      "text/plain": [
       "        item_category_name  item_category_id\n",
       "0  PC - Гарнитуры/Наушники                 0\n",
       "1         Аксессуары - PS2                 1\n",
       "2         Аксессуары - PS3                 2\n",
       "3         Аксессуары - PS4                 3\n",
       "4         Аксессуары - PSP                 4"
      ]
     },
     "execution_count": 3,
     "metadata": {},
     "output_type": "execute_result"
    }
   ],
   "source": [
    "# And now it is time for some exploration.\n",
    "\n",
    "# Item categories just contains category names in item_category_name and their ids in item_category_id.\n",
    "# Nothing crazy.\n",
    "item_categories.head()"
   ]
  },
  {
   "cell_type": "code",
   "execution_count": 4,
   "metadata": {},
   "outputs": [
    {
     "data": {
      "text/html": [
       "<div>\n",
       "<style scoped>\n",
       "    .dataframe tbody tr th:only-of-type {\n",
       "        vertical-align: middle;\n",
       "    }\n",
       "\n",
       "    .dataframe tbody tr th {\n",
       "        vertical-align: top;\n",
       "    }\n",
       "\n",
       "    .dataframe thead th {\n",
       "        text-align: right;\n",
       "    }\n",
       "</style>\n",
       "<table border=\"1\" class=\"dataframe\">\n",
       "  <thead>\n",
       "    <tr style=\"text-align: right;\">\n",
       "      <th></th>\n",
       "      <th>item_name</th>\n",
       "      <th>item_id</th>\n",
       "      <th>item_category_id</th>\n",
       "    </tr>\n",
       "  </thead>\n",
       "  <tbody>\n",
       "    <tr>\n",
       "      <th>0</th>\n",
       "      <td>! ВО ВЛАСТИ НАВАЖДЕНИЯ (ПЛАСТ.)         D</td>\n",
       "      <td>0</td>\n",
       "      <td>40</td>\n",
       "    </tr>\n",
       "    <tr>\n",
       "      <th>1</th>\n",
       "      <td>!ABBYY FineReader 12 Professional Edition Full...</td>\n",
       "      <td>1</td>\n",
       "      <td>76</td>\n",
       "    </tr>\n",
       "    <tr>\n",
       "      <th>2</th>\n",
       "      <td>***В ЛУЧАХ СЛАВЫ   (UNV)                    D</td>\n",
       "      <td>2</td>\n",
       "      <td>40</td>\n",
       "    </tr>\n",
       "    <tr>\n",
       "      <th>3</th>\n",
       "      <td>***ГОЛУБАЯ ВОЛНА  (Univ)                      D</td>\n",
       "      <td>3</td>\n",
       "      <td>40</td>\n",
       "    </tr>\n",
       "    <tr>\n",
       "      <th>4</th>\n",
       "      <td>***КОРОБКА (СТЕКЛО)                       D</td>\n",
       "      <td>4</td>\n",
       "      <td>40</td>\n",
       "    </tr>\n",
       "  </tbody>\n",
       "</table>\n",
       "</div>"
      ],
      "text/plain": [
       "                                           item_name  item_id  \\\n",
       "0          ! ВО ВЛАСТИ НАВАЖДЕНИЯ (ПЛАСТ.)         D        0   \n",
       "1  !ABBYY FineReader 12 Professional Edition Full...        1   \n",
       "2      ***В ЛУЧАХ СЛАВЫ   (UNV)                    D        2   \n",
       "3    ***ГОЛУБАЯ ВОЛНА  (Univ)                      D        3   \n",
       "4        ***КОРОБКА (СТЕКЛО)                       D        4   \n",
       "\n",
       "   item_category_id  \n",
       "0                40  \n",
       "1                76  \n",
       "2                40  \n",
       "3                40  \n",
       "4                40  "
      ]
     },
     "execution_count": 4,
     "metadata": {},
     "output_type": "execute_result"
    }
   ],
   "source": [
    "# Let's look at items a bit.\n",
    "# item_name        has, well, the name of the item.\n",
    "# item_id          gives each item their unique id.\n",
    "# item_category_id is an item category taken from item_categories, basically.\n",
    "# You could probably replace them with the values from it and one-hot it,\n",
    "# but it'll end up taking so much memory...\n",
    "\n",
    "items.head()"
   ]
  },
  {
   "cell_type": "code",
   "execution_count": 5,
   "metadata": {},
   "outputs": [
    {
     "data": {
      "text/html": [
       "<div>\n",
       "<style scoped>\n",
       "    .dataframe tbody tr th:only-of-type {\n",
       "        vertical-align: middle;\n",
       "    }\n",
       "\n",
       "    .dataframe tbody tr th {\n",
       "        vertical-align: top;\n",
       "    }\n",
       "\n",
       "    .dataframe thead th {\n",
       "        text-align: right;\n",
       "    }\n",
       "</style>\n",
       "<table border=\"1\" class=\"dataframe\">\n",
       "  <thead>\n",
       "    <tr style=\"text-align: right;\">\n",
       "      <th></th>\n",
       "      <th>shop_name</th>\n",
       "      <th>shop_id</th>\n",
       "    </tr>\n",
       "  </thead>\n",
       "  <tbody>\n",
       "    <tr>\n",
       "      <th>0</th>\n",
       "      <td>!Якутск Орджоникидзе, 56 фран</td>\n",
       "      <td>0</td>\n",
       "    </tr>\n",
       "    <tr>\n",
       "      <th>57</th>\n",
       "      <td>Якутск Орджоникидзе, 56</td>\n",
       "      <td>57</td>\n",
       "    </tr>\n",
       "    <tr>\n",
       "      <th>1</th>\n",
       "      <td>!Якутск ТЦ \"Центральный\" фран</td>\n",
       "      <td>1</td>\n",
       "    </tr>\n",
       "    <tr>\n",
       "      <th>58</th>\n",
       "      <td>Якутск ТЦ \"Центральный\"</td>\n",
       "      <td>58</td>\n",
       "    </tr>\n",
       "    <tr>\n",
       "      <th>10</th>\n",
       "      <td>Жуковский ул. Чкалова 39м?</td>\n",
       "      <td>10</td>\n",
       "    </tr>\n",
       "    <tr>\n",
       "      <th>11</th>\n",
       "      <td>Жуковский ул. Чкалова 39м²</td>\n",
       "      <td>11</td>\n",
       "    </tr>\n",
       "  </tbody>\n",
       "</table>\n",
       "</div>"
      ],
      "text/plain": [
       "                        shop_name  shop_id\n",
       "0   !Якутск Орджоникидзе, 56 фран        0\n",
       "57        Якутск Орджоникидзе, 56       57\n",
       "1   !Якутск ТЦ \"Центральный\" фран        1\n",
       "58        Якутск ТЦ \"Центральный\"       58\n",
       "10     Жуковский ул. Чкалова 39м?       10\n",
       "11     Жуковский ул. Чкалова 39м²       11"
      ]
     },
     "execution_count": 5,
     "metadata": {},
     "output_type": "execute_result"
    }
   ],
   "source": [
    "# Let's check out shops.\n",
    "# This is starting to remind me of databases a bit.\n",
    "# Wonder what normal form this whole thing is in.\n",
    "\n",
    "# Are these pairs of shops the same?\n",
    "# Maybe there was some formatting error or something.\n",
    "# We might want to deal with that later.\n",
    "shops.iloc(0)[[0, 57, 1, 58, 10, 11]]"
   ]
  },
  {
   "cell_type": "code",
   "execution_count": 6,
   "metadata": {},
   "outputs": [
    {
     "data": {
      "text/html": [
       "<div>\n",
       "<style scoped>\n",
       "    .dataframe tbody tr th:only-of-type {\n",
       "        vertical-align: middle;\n",
       "    }\n",
       "\n",
       "    .dataframe tbody tr th {\n",
       "        vertical-align: top;\n",
       "    }\n",
       "\n",
       "    .dataframe thead th {\n",
       "        text-align: right;\n",
       "    }\n",
       "</style>\n",
       "<table border=\"1\" class=\"dataframe\">\n",
       "  <thead>\n",
       "    <tr style=\"text-align: right;\">\n",
       "      <th></th>\n",
       "      <th>date</th>\n",
       "      <th>date_block_num</th>\n",
       "      <th>shop_id</th>\n",
       "      <th>item_id</th>\n",
       "      <th>item_price</th>\n",
       "      <th>item_cnt_day</th>\n",
       "    </tr>\n",
       "  </thead>\n",
       "  <tbody>\n",
       "    <tr>\n",
       "      <th>0</th>\n",
       "      <td>02.01.2013</td>\n",
       "      <td>0</td>\n",
       "      <td>59</td>\n",
       "      <td>22154</td>\n",
       "      <td>999.00</td>\n",
       "      <td>1.0</td>\n",
       "    </tr>\n",
       "    <tr>\n",
       "      <th>1</th>\n",
       "      <td>03.01.2013</td>\n",
       "      <td>0</td>\n",
       "      <td>25</td>\n",
       "      <td>2552</td>\n",
       "      <td>899.00</td>\n",
       "      <td>1.0</td>\n",
       "    </tr>\n",
       "    <tr>\n",
       "      <th>2</th>\n",
       "      <td>05.01.2013</td>\n",
       "      <td>0</td>\n",
       "      <td>25</td>\n",
       "      <td>2552</td>\n",
       "      <td>899.00</td>\n",
       "      <td>-1.0</td>\n",
       "    </tr>\n",
       "    <tr>\n",
       "      <th>3</th>\n",
       "      <td>06.01.2013</td>\n",
       "      <td>0</td>\n",
       "      <td>25</td>\n",
       "      <td>2554</td>\n",
       "      <td>1709.05</td>\n",
       "      <td>1.0</td>\n",
       "    </tr>\n",
       "    <tr>\n",
       "      <th>4</th>\n",
       "      <td>15.01.2013</td>\n",
       "      <td>0</td>\n",
       "      <td>25</td>\n",
       "      <td>2555</td>\n",
       "      <td>1099.00</td>\n",
       "      <td>1.0</td>\n",
       "    </tr>\n",
       "  </tbody>\n",
       "</table>\n",
       "</div>"
      ],
      "text/plain": [
       "         date  date_block_num  shop_id  item_id  item_price  item_cnt_day\n",
       "0  02.01.2013               0       59    22154      999.00           1.0\n",
       "1  03.01.2013               0       25     2552      899.00           1.0\n",
       "2  05.01.2013               0       25     2552      899.00          -1.0\n",
       "3  06.01.2013               0       25     2554     1709.05           1.0\n",
       "4  15.01.2013               0       25     2555     1099.00           1.0"
      ]
     },
     "execution_count": 6,
     "metadata": {},
     "output_type": "execute_result"
    }
   ],
   "source": [
    "# Now for something more interesting, the contents of the training data.\n",
    "# date           DD.MM.YYYY date.\n",
    "# date_block_num 0...33, where Jan 2013 is 0, Feb 2013 is 1...\n",
    "# shop_id        id of the shop from shops.csv\n",
    "# item_id        id of the item from items.csv\n",
    "# item_price     the actual price of the item! this is probably pretty variable\n",
    "# item_cnt_day   number sold on this date. can be negative? possibly refunds.\n",
    "train.head()"
   ]
  },
  {
   "cell_type": "code",
   "execution_count": 7,
   "metadata": {},
   "outputs": [
    {
     "data": {
      "text/html": [
       "<div>\n",
       "<style scoped>\n",
       "    .dataframe tbody tr th:only-of-type {\n",
       "        vertical-align: middle;\n",
       "    }\n",
       "\n",
       "    .dataframe tbody tr th {\n",
       "        vertical-align: top;\n",
       "    }\n",
       "\n",
       "    .dataframe thead th {\n",
       "        text-align: right;\n",
       "    }\n",
       "</style>\n",
       "<table border=\"1\" class=\"dataframe\">\n",
       "  <thead>\n",
       "    <tr style=\"text-align: right;\">\n",
       "      <th></th>\n",
       "      <th>date_block_num</th>\n",
       "      <th>shop_id</th>\n",
       "      <th>item_id</th>\n",
       "      <th>item_price</th>\n",
       "      <th>item_cnt_day</th>\n",
       "    </tr>\n",
       "  </thead>\n",
       "  <tbody>\n",
       "    <tr>\n",
       "      <th>count</th>\n",
       "      <td>2935849.000</td>\n",
       "      <td>2935849.000</td>\n",
       "      <td>2935849.000</td>\n",
       "      <td>2935849.000</td>\n",
       "      <td>2935849.000</td>\n",
       "    </tr>\n",
       "    <tr>\n",
       "      <th>mean</th>\n",
       "      <td>14.570</td>\n",
       "      <td>33.002</td>\n",
       "      <td>10197.227</td>\n",
       "      <td>890.853</td>\n",
       "      <td>1.243</td>\n",
       "    </tr>\n",
       "    <tr>\n",
       "      <th>std</th>\n",
       "      <td>9.423</td>\n",
       "      <td>16.227</td>\n",
       "      <td>6324.297</td>\n",
       "      <td>1729.800</td>\n",
       "      <td>2.619</td>\n",
       "    </tr>\n",
       "    <tr>\n",
       "      <th>min</th>\n",
       "      <td>0.000</td>\n",
       "      <td>0.000</td>\n",
       "      <td>0.000</td>\n",
       "      <td>-1.000</td>\n",
       "      <td>-22.000</td>\n",
       "    </tr>\n",
       "    <tr>\n",
       "      <th>25%</th>\n",
       "      <td>7.000</td>\n",
       "      <td>22.000</td>\n",
       "      <td>4476.000</td>\n",
       "      <td>249.000</td>\n",
       "      <td>1.000</td>\n",
       "    </tr>\n",
       "    <tr>\n",
       "      <th>50%</th>\n",
       "      <td>14.000</td>\n",
       "      <td>31.000</td>\n",
       "      <td>9343.000</td>\n",
       "      <td>399.000</td>\n",
       "      <td>1.000</td>\n",
       "    </tr>\n",
       "    <tr>\n",
       "      <th>75%</th>\n",
       "      <td>23.000</td>\n",
       "      <td>47.000</td>\n",
       "      <td>15684.000</td>\n",
       "      <td>999.000</td>\n",
       "      <td>1.000</td>\n",
       "    </tr>\n",
       "    <tr>\n",
       "      <th>max</th>\n",
       "      <td>33.000</td>\n",
       "      <td>59.000</td>\n",
       "      <td>22169.000</td>\n",
       "      <td>307980.000</td>\n",
       "      <td>2169.000</td>\n",
       "    </tr>\n",
       "  </tbody>\n",
       "</table>\n",
       "</div>"
      ],
      "text/plain": [
       "       date_block_num      shop_id      item_id   item_price  item_cnt_day\n",
       "count     2935849.000  2935849.000  2935849.000  2935849.000   2935849.000\n",
       "mean           14.570       33.002    10197.227      890.853         1.243\n",
       "std             9.423       16.227     6324.297     1729.800         2.619\n",
       "min             0.000        0.000        0.000       -1.000       -22.000\n",
       "25%             7.000       22.000     4476.000      249.000         1.000\n",
       "50%            14.000       31.000     9343.000      399.000         1.000\n",
       "75%            23.000       47.000    15684.000      999.000         1.000\n",
       "max            33.000       59.000    22169.000   307980.000      2169.000"
      ]
     },
     "execution_count": 7,
     "metadata": {},
     "output_type": "execute_result"
    }
   ],
   "source": [
    "# Item price has absurd min and max.\n",
    "# 307k ruble would be something like 3.4 thousand euro.\n",
    "# Maybe not that crazy, but the negative price surely is.\n",
    "\n",
    "# Sold in the day is also a bit iffy. Negative 22 'sold' a day?\n",
    "# We'll probably be better off clipping that to zero as well.\n",
    "round(train.describe(), 3)"
   ]
  },
  {
   "cell_type": "code",
   "execution_count": 8,
   "metadata": {},
   "outputs": [
    {
     "data": {
      "text/html": [
       "<div>\n",
       "<style scoped>\n",
       "    .dataframe tbody tr th:only-of-type {\n",
       "        vertical-align: middle;\n",
       "    }\n",
       "\n",
       "    .dataframe tbody tr th {\n",
       "        vertical-align: top;\n",
       "    }\n",
       "\n",
       "    .dataframe thead th {\n",
       "        text-align: right;\n",
       "    }\n",
       "</style>\n",
       "<table border=\"1\" class=\"dataframe\">\n",
       "  <thead>\n",
       "    <tr style=\"text-align: right;\">\n",
       "      <th></th>\n",
       "      <th>ID</th>\n",
       "      <th>shop_id</th>\n",
       "      <th>item_id</th>\n",
       "    </tr>\n",
       "  </thead>\n",
       "  <tbody>\n",
       "    <tr>\n",
       "      <th>0</th>\n",
       "      <td>0</td>\n",
       "      <td>5</td>\n",
       "      <td>5037</td>\n",
       "    </tr>\n",
       "    <tr>\n",
       "      <th>1</th>\n",
       "      <td>1</td>\n",
       "      <td>5</td>\n",
       "      <td>5320</td>\n",
       "    </tr>\n",
       "    <tr>\n",
       "      <th>2</th>\n",
       "      <td>2</td>\n",
       "      <td>5</td>\n",
       "      <td>5233</td>\n",
       "    </tr>\n",
       "    <tr>\n",
       "      <th>3</th>\n",
       "      <td>3</td>\n",
       "      <td>5</td>\n",
       "      <td>5232</td>\n",
       "    </tr>\n",
       "    <tr>\n",
       "      <th>4</th>\n",
       "      <td>4</td>\n",
       "      <td>5</td>\n",
       "      <td>5268</td>\n",
       "    </tr>\n",
       "  </tbody>\n",
       "</table>\n",
       "</div>"
      ],
      "text/plain": [
       "   ID  shop_id  item_id\n",
       "0   0        5     5037\n",
       "1   1        5     5320\n",
       "2   2        5     5233\n",
       "3   3        5     5232\n",
       "4   4        5     5268"
      ]
     },
     "execution_count": 8,
     "metadata": {},
     "output_type": "execute_result"
    }
   ],
   "source": [
    "# What do we get in the test data?\n",
    "# Nothing but ID (probably unnecessary), the shop id, and item id.\n",
    "# Using these and whatever we can conjure up from them, we have to predict sales for the next month (not just day!)\n",
    "test.head()"
   ]
  },
  {
   "cell_type": "markdown",
   "metadata": {},
   "source": [
    "### Training set outliers\n",
    "\n",
    "We'll try to deal with outliers in the training set now"
   ]
  },
  {
   "cell_type": "code",
   "execution_count": 9,
   "metadata": {},
   "outputs": [
    {
     "data": {
      "image/png": "[encoded data removed]",
      "text/plain": [
       "<Figure size 432x288 with 1 Axes>"
      ]
     },
     "metadata": {
      "needs_background": "light"
     },
     "output_type": "display_data"
    }
   ],
   "source": [
    "# Let's see if I can make a plot of the item prices and sales counts at once here.\n",
    "sns.scatterplot(x = train.item_price, y = train.item_cnt_day)\n",
    "plt.title('Daily item sales plotted against item price.')\n",
    "plt.show()"
   ]
  },
  {
   "cell_type": "code",
   "execution_count": 10,
   "metadata": {},
   "outputs": [],
   "source": [
    "# Alright, I guess we can get rid of the expensive thing after all.\n",
    "# I'll drop rows in training with price above 100 grand and sales figures above 800 or so.\n",
    "# Of course, negative prices and negative sales should probably be taken away as well.\n",
    "\n",
    "train = train[(train['item_price'] >= 0) & (train['item_price'] <= 100_000)\n",
    "            & (train['item_cnt_day'] >= 0) & (train['item_cnt_day'] <= 800)]"
   ]
  },
  {
   "cell_type": "code",
   "execution_count": 11,
   "metadata": {},
   "outputs": [
    {
     "data": {
      "image/png": "[encoded data removed]",
      "text/plain": [
       "<Figure size 432x288 with 1 Axes>"
      ]
     },
     "metadata": {
      "needs_background": "light"
     },
     "output_type": "display_data"
    }
   ],
   "source": [
    "# Let's make the plot again!\n",
    "sns.scatterplot(x = train.item_price, y = train.item_cnt_day)\n",
    "plt.title('Daily item sales plotted against item price.')\n",
    "plt.show()\n",
    "# I like this one a lot more now."
   ]
  },
  {
   "cell_type": "markdown",
   "metadata": {},
   "source": [
    "### Killing duplicate values\n",
    "\n",
    "As we noted before, we have duplicate shops in the data. Let's get rid of the shops with messed up looking names and just use the good ones.\n",
    "\n",
    "That is to say, replace 0 with 57, 1 with 58, and 10 with 11.\n",
    "\n",
    "The data sets that referenced shop id were only train and test."
   ]
  },
  {
   "cell_type": "code",
   "execution_count": 12,
   "metadata": {},
   "outputs": [
    {
     "name": "stdout",
     "output_type": "stream",
     "text": [
      "The amount of shops with id 0 is 0 in the test set and 9857 in the training set.\n",
      "The amount of shops with id 57 is 5100 in the test set and 117114 in the training set.\n",
      "The amount of shops with id 1 is 0 in the test set and 5678 in the training set.\n",
      "The amount of shops with id 58 is 5100 in the test set and 71268 in the training set.\n",
      "The amount of shops with id 10 is 5100 in the test set and 21397 in the training set.\n",
      "The amount of shops with id 11 is 0 in the test set and 499 in the training set.\n"
     ]
    }
   ],
   "source": [
    "# Let's see if we even need to do this.\n",
    "\n",
    "for shop in [0, 57, 1, 58, 10, 11]:\n",
    "    n = test[test['shop_id'] == shop].shape[0]\n",
    "    k = train[train['shop_id'] == shop].shape[0]\n",
    "    print(f'The amount of shops with id {shop} is {n} in the test set and {k} in the training set.')"
   ]
  },
  {
   "cell_type": "code",
   "execution_count": 13,
   "metadata": {},
   "outputs": [],
   "source": [
    "# Well, then, time to get to replacing.\n",
    "# We need to swap out 10 for 11 in the test set\n",
    "# and ALL of the values in the train set.\n",
    "# Might as well keep it simple and do it in a loop.\n",
    "\n",
    "# Avoiding SettingWithCopyWarning: data.loc[data.col == 'data', 'col2'] = newval\n",
    "changes = [(0, 57), (1, 58), (10, 11)]\n",
    "for from_, to_ in changes:\n",
    "    test.loc[test.shop_id   == from_, 'shop_id'] = to_\n",
    "    train.loc[train.shop_id == from_, 'shop_id'] = to_"
   ]
  },
  {
   "cell_type": "markdown",
   "metadata": {},
   "source": [
    "### Tiny bit of extra cleaning\n",
    "\n",
    "We saw the test set have a somewhat extraneous ID column, but we need to have that in the submission file anyway. I'll see later if it stays necessary to have.\n",
    "\n",
    "What we could get rid of are the extra shops that we have in the shops dataframe now."
   ]
  },
  {
   "cell_type": "code",
   "execution_count": 14,
   "metadata": {},
   "outputs": [],
   "source": [
    "shops = shops[(shops['shop_id'] != 0) & (shops['shop_id'] != 1) & (shops['shop_id'] != 10)]"
   ]
  },
  {
   "cell_type": "markdown",
   "metadata": {},
   "source": [
    "That's the low hanging fruit gone, I guess.\n",
    "\n",
    "### First attempt at an overly simple model\n",
    "\n",
    "Let's now take into account just the last month. For each pair of item and shop, taking into account month number 33 (the last one), let's sum up our sales for that month, if we have any. If we do not have any, we use 0. If we have more than 20, we use 20 (for RMSE calculation in the end, higher values are clipped between 0 and 20)."
   ]
  },
  {
   "cell_type": "code",
   "execution_count": 15,
   "metadata": {},
   "outputs": [],
   "source": [
    "'''\n",
    "preds = []\n",
    "used_subset = train[train['date_block_num'] == 33].copy()\n",
    "\n",
    "def avg_for_last_month(data, shop, item):\n",
    "    # It just does what it says on the tin.\n",
    "    # Except it also maxes out at 20 sales, because true target values are clipped between 0 and 20.\n",
    "    # If a value is missing completely? We revert to baseline 0.5\n",
    "    filtered = data[(data['shop_id'] == shop) & (data['item_id'] == item)]\n",
    "    if (filtered.shape[0] == 0):\n",
    "        return 0.5\n",
    "    else:\n",
    "        return min(filtered.item_cnt_day.sum(), 20.0)\n",
    "\n",
    "for row in test.iloc(axis=0):\n",
    "    id_, shop, item = row.ID, row.shop_id, row.item_id\n",
    "    # Using shop id and item id, push the average for the month into preds\n",
    "    preds.append(avg_for_last_month(used_subset, shop, item))\n",
    "''';"
   ]
  },
  {
   "cell_type": "markdown",
   "metadata": {},
   "source": [
    "This takes a bit of time... Anyway, some numbers while we are here.  \n",
    "The baseline submission has all predictions at 0.5. The RMSE for that is 1.23646 (which, funnily enough, already gets you into the top 78%...).  \n",
    "I expect this to be maybe a SLIGHT improvement. Let's see."
   ]
  },
  {
   "cell_type": "code",
   "execution_count": 16,
   "metadata": {},
   "outputs": [],
   "source": [
    "'''\n",
    "with open('bad_submission.csv', 'w') as file:\n",
    "    file.write('ID,item_cnt_month\\n')\n",
    "    for i, pred in enumerate(preds):\n",
    "        file.write(f'{i},{pred}\\n')\n",
    "    print('File written.')\n",
    "del preds\n",
    "del used_subset\n",
    "''';"
   ]
  },
  {
   "cell_type": "markdown",
   "metadata": {},
   "source": [
    "Using this absolute mess of a pretend model, we achieve RMSE of 1.19724! Woo-hoo, with this absolute trash we have entered the top 66%! Let's not push this any further, though, clearly we will get no results here. Maybe taking a few months of data would get us into top 50% though, hmm?"
   ]
  },
  {
   "cell_type": "markdown",
   "metadata": {},
   "source": [
    "### More...\n",
    "\n",
    "We need to figure this time series stuff out. Chances are we need to fabricate a data point for each month, for each shop, for each item. Definitely not for each day, it seems to me we'd get something like a couple hundred million rows and the information would be way too specific.\n",
    "\n",
    "We should check if we have shops that are not present in the training/test data or items that are not present in the training/test data to reduce possible combinations. Dropping shops would have the biggest impact here.\n",
    "\n",
    "Once we have a data set with each month, shop id, item id, the (average?) price (we'd need to impute this somehow, I think), and (summed for the month) sales (ditto), we can probably get to thinking up new features."
   ]
  },
  {
   "cell_type": "code",
   "execution_count": 17,
   "metadata": {},
   "outputs": [
    {
     "data": {
      "text/plain": [
       "False"
      ]
     },
     "execution_count": 17,
     "metadata": {},
     "output_type": "execute_result"
    }
   ],
   "source": [
    "trainset = set(train.shop_id)\n",
    "testset  = set(test.shop_id)\n",
    "\n",
    "trainset == testset"
   ]
  },
  {
   "cell_type": "code",
   "execution_count": 18,
   "metadata": {},
   "outputs": [
    {
     "name": "stdout",
     "output_type": "stream",
     "text": [
      "Train - Test: {32, 33, 8, 9, 40, 43, 13, 17, 51, 20, 54, 23, 27, 29, 30}\n",
      "Test - Train: set()\n"
     ]
    }
   ],
   "source": [
    "# Find out what the difference is...\n",
    "\n",
    "print(f'Train - Test: {trainset - testset}')\n",
    "\n",
    "print(f'Test - Train: {testset - trainset}')"
   ]
  },
  {
   "cell_type": "markdown",
   "metadata": {},
   "source": [
    "Score! There are many stores which only exist inside the training set, yet are not in the 'test' set. Let's remove all of these from the training data."
   ]
  },
  {
   "cell_type": "code",
   "execution_count": 19,
   "metadata": {},
   "outputs": [],
   "source": [
    "diff = trainset - testset"
   ]
  },
  {
   "cell_type": "code",
   "execution_count": 20,
   "metadata": {},
   "outputs": [],
   "source": [
    "for store in diff:\n",
    "    train = train[(train['shop_id'] != store)]"
   ]
  },
  {
   "cell_type": "markdown",
   "metadata": {},
   "source": [
    "Now we have half a million fewer rows, which is a sixth of the dataset! Let's try the same with items."
   ]
  },
  {
   "cell_type": "code",
   "execution_count": 21,
   "metadata": {},
   "outputs": [
    {
     "data": {
      "text/plain": [
       "False"
      ]
     },
     "execution_count": 21,
     "metadata": {},
     "output_type": "execute_result"
    }
   ],
   "source": [
    "trainset = set(train.item_id)\n",
    "testset  = set(test.item_id)\n",
    "\n",
    "trainset == testset"
   ]
  },
  {
   "cell_type": "code",
   "execution_count": 22,
   "metadata": {},
   "outputs": [
    {
     "name": "stdout",
     "output_type": "stream",
     "text": [
      "5100\n",
      "21081\n",
      "384\n",
      "16365\n"
     ]
    }
   ],
   "source": [
    "print(len(testset))\n",
    "print(len(trainset))\n",
    "print(len(testset - trainset))\n",
    "print(len(trainset - testset))"
   ]
  },
  {
   "cell_type": "markdown",
   "metadata": {},
   "source": [
    "Perhaps not. This will get rid of too much information, besides, the item id isn't all that matters...\n",
    "\n",
    "Let's split the data into months now. Also take into account which shops and items we have anymore."
   ]
  },
  {
   "cell_type": "code",
   "execution_count": 23,
   "metadata": {},
   "outputs": [
    {
     "name": "stdout",
     "output_type": "stream",
     "text": [
      "Months in data: [0, 1, 2, 3, 4, 5, 6, 7, 8, 9, 10, 11, 12, 13, 14, 15, 16, 17, 18, 19, 20, 21, 22, 23, 24, 25, 26, 27, 28, 29, 30, 31, 32, 33]\n"
     ]
    }
   ],
   "source": [
    "allitems = set(train.item_id)\n",
    "allshops = set(train.shop_id)\n",
    "\n",
    "months = sorted(list(set(train.date_block_num)))\n",
    "\n",
    "print(f'Months in data: {months}')"
   ]
  },
  {
   "cell_type": "markdown",
   "metadata": {},
   "source": [
    "This is just zero until thirty-three. Let's make an array and put slices of the dataframe into it."
   ]
  },
  {
   "cell_type": "code",
   "execution_count": 24,
   "metadata": {},
   "outputs": [],
   "source": [
    "months_sep = []\n",
    "\n",
    "for month in months:\n",
    "    months_sep.append(train[train['date_block_num'] == month][['shop_id', 'item_id', 'item_price', 'item_cnt_day']])"
   ]
  },
  {
   "cell_type": "markdown",
   "metadata": {},
   "source": [
    "Now I will write a function that takes a dataframe for a given month and 'compresses' it in a sense, so that for each item and store, there is only one entry for the month, not for every day."
   ]
  },
  {
   "cell_type": "code",
   "execution_count": 25,
   "metadata": {},
   "outputs": [],
   "source": [
    "def compress(df):\n",
    "    shops = set(df.shop_id)\n",
    "    items = set(df.item_id)\n",
    "    out = []\n",
    "    \n",
    "    for shop in list(shops)[:2]:\n",
    "        for item in items:\n",
    "            k = df[(df['shop_id'] == shop) & (df['item_id'] == item)] # current shop/item combo\n",
    "            if len(k) == 0:\n",
    "                continue\n",
    "            # weighted price...\n",
    "            sales = k.item_cnt_day.sum()\n",
    "            avg_price = sum(map(lambda x: x[0] * x[1], zip(k.item_price, k.item_cnt_day))) / sales\n",
    "            out.append([shop, item, avg_price, sales])\n",
    "    \n",
    "    return pd.DataFrame(out, columns = ['shop_id', 'item_id', 'item_price', 'item_cnt_month'])"
   ]
  },
  {
   "cell_type": "code",
   "execution_count": 26,
   "metadata": {},
   "outputs": [],
   "source": [
    "compressed = list(map(compress, months_sep))"
   ]
  },
  {
   "cell_type": "markdown",
   "metadata": {},
   "source": [
    "This takes a few minutes... And it may yet get worse, since I will have to fill it all with zero values. Maybe I will try to finesse my way through this, though."
   ]
  },
  {
   "cell_type": "code",
   "execution_count": 27,
   "metadata": {},
   "outputs": [
    {
     "data": {
      "text/plain": [
       "30103668"
      ]
     },
     "execution_count": 27,
     "metadata": {},
     "output_type": "execute_result"
    }
   ],
   "source": [
    "len(allitems) * len(allshops) * len(compressed) # items times shops times months"
   ]
  },
  {
   "cell_type": "markdown",
   "metadata": {},
   "source": [
    "Our final dataframe would have to end up having this many rows... Let's see how many we have."
   ]
  },
  {
   "cell_type": "code",
   "execution_count": 28,
   "metadata": {},
   "outputs": [
    {
     "data": {
      "text/plain": [
       "32359"
      ]
     },
     "execution_count": 28,
     "metadata": {},
     "output_type": "execute_result"
    }
   ],
   "source": [
    "sum(map(len, compressed))"
   ]
  },
  {
   "cell_type": "markdown",
   "metadata": {},
   "source": [
    "Yeah, that doesn't look too good for us."
   ]
  },
  {
   "cell_type": "code",
   "execution_count": 29,
   "metadata": {},
   "outputs": [
    {
     "data": {
      "text/plain": [
       "214200"
      ]
     },
     "execution_count": 29,
     "metadata": {},
     "output_type": "execute_result"
    }
   ],
   "source": [
    "len(test)"
   ]
  },
  {
   "cell_type": "code",
   "execution_count": 30,
   "metadata": {},
   "outputs": [
    {
     "data": {
      "text/html": [
       "<div>\n",
       "<style scoped>\n",
       "    .dataframe tbody tr th:only-of-type {\n",
       "        vertical-align: middle;\n",
       "    }\n",
       "\n",
       "    .dataframe tbody tr th {\n",
       "        vertical-align: top;\n",
       "    }\n",
       "\n",
       "    .dataframe thead th {\n",
       "        text-align: right;\n",
       "    }\n",
       "</style>\n",
       "<table border=\"1\" class=\"dataframe\">\n",
       "  <thead>\n",
       "    <tr style=\"text-align: right;\">\n",
       "      <th></th>\n",
       "      <th>ID</th>\n",
       "      <th>shop_id</th>\n",
       "      <th>item_id</th>\n",
       "    </tr>\n",
       "  </thead>\n",
       "  <tbody>\n",
       "    <tr>\n",
       "      <th>0</th>\n",
       "      <td>0</td>\n",
       "      <td>5</td>\n",
       "      <td>5037</td>\n",
       "    </tr>\n",
       "    <tr>\n",
       "      <th>1</th>\n",
       "      <td>1</td>\n",
       "      <td>5</td>\n",
       "      <td>5320</td>\n",
       "    </tr>\n",
       "    <tr>\n",
       "      <th>2</th>\n",
       "      <td>2</td>\n",
       "      <td>5</td>\n",
       "      <td>5233</td>\n",
       "    </tr>\n",
       "    <tr>\n",
       "      <th>3</th>\n",
       "      <td>3</td>\n",
       "      <td>5</td>\n",
       "      <td>5232</td>\n",
       "    </tr>\n",
       "    <tr>\n",
       "      <th>4</th>\n",
       "      <td>4</td>\n",
       "      <td>5</td>\n",
       "      <td>5268</td>\n",
       "    </tr>\n",
       "    <tr>\n",
       "      <th>...</th>\n",
       "      <td>...</td>\n",
       "      <td>...</td>\n",
       "      <td>...</td>\n",
       "    </tr>\n",
       "    <tr>\n",
       "      <th>214195</th>\n",
       "      <td>214195</td>\n",
       "      <td>45</td>\n",
       "      <td>18454</td>\n",
       "    </tr>\n",
       "    <tr>\n",
       "      <th>214196</th>\n",
       "      <td>214196</td>\n",
       "      <td>45</td>\n",
       "      <td>16188</td>\n",
       "    </tr>\n",
       "    <tr>\n",
       "      <th>214197</th>\n",
       "      <td>214197</td>\n",
       "      <td>45</td>\n",
       "      <td>15757</td>\n",
       "    </tr>\n",
       "    <tr>\n",
       "      <th>214198</th>\n",
       "      <td>214198</td>\n",
       "      <td>45</td>\n",
       "      <td>19648</td>\n",
       "    </tr>\n",
       "    <tr>\n",
       "      <th>214199</th>\n",
       "      <td>214199</td>\n",
       "      <td>45</td>\n",
       "      <td>969</td>\n",
       "    </tr>\n",
       "  </tbody>\n",
       "</table>\n",
       "<p>214200 rows × 3 columns</p>\n",
       "</div>"
      ],
      "text/plain": [
       "            ID  shop_id  item_id\n",
       "0            0        5     5037\n",
       "1            1        5     5320\n",
       "2            2        5     5233\n",
       "3            3        5     5232\n",
       "4            4        5     5268\n",
       "...        ...      ...      ...\n",
       "214195  214195       45    18454\n",
       "214196  214196       45    16188\n",
       "214197  214197       45    15757\n",
       "214198  214198       45    19648\n",
       "214199  214199       45      969\n",
       "\n",
       "[214200 rows x 3 columns]"
      ]
     },
     "execution_count": 30,
     "metadata": {},
     "output_type": "execute_result"
    }
   ],
   "source": [
    "test"
   ]
  },
  {
   "cell_type": "markdown",
   "metadata": {},
   "source": [
    "Well, right... I'll just generate all the data, then. The vast majority of our data will be zeroes... IF this works, we'll be fine. Otherwise, we'll be very sad."
   ]
  },
  {
   "cell_type": "markdown",
   "metadata": {},
   "source": [
    "Our columns would be shop id, item id, month, price change in last month, price, sales change in last month, and finally item sales in y. Then we'll just go ahead and see how it does - probably absolutely awfully, especially given the effort - but I guess that's fine anyway. That's how you learn (NOT a coping mechanism)."
   ]
  },
  {
   "cell_type": "code",
   "execution_count": 31,
   "metadata": {},
   "outputs": [],
   "source": [
    "X_train = []\n",
    "y_train = []\n",
    "\n",
    "# add two months (10 and 11) to start out with, with default values if nothing else exists.\n",
    "for i in range(10, 12):\n",
    "    next_X = []\n",
    "    next_y = []\n",
    "    curr = compressed[i]\n",
    "    for shop_id, item_id in zip(test.shop_id, test.item_id):\n",
    "        # populate with defaults\n",
    "        k = curr[(curr['shop_id'] == shop_id) & (curr['item_id'] == item_id)]\n",
    "        if (len(k) == 0): # defaults\n",
    "            next_X.append([shop_id, item_id, i % 12, 0, 0, 0])\n",
    "            next_y.append(0)\n",
    "            continue\n",
    "        # the row has some information in it (we will only have one entry anyway)\n",
    "        next_X.append([shop_id, item_id, i % 12, 0, k.item_price.iloc(0)[0], 0])\n",
    "        next_y.append(k.item_cnt_month.iloc(0)[0])\n",
    "    X_train.append(next_X)\n",
    "    y_train.append(next_y)"
   ]
  },
  {
   "cell_type": "code",
   "execution_count": 32,
   "metadata": {},
   "outputs": [],
   "source": [
    "for i in range(12, len(compressed)):\n",
    "    next_X = []\n",
    "    next_y = []\n",
    "        \n",
    "    curr = compressed[i]\n",
    "    prv1 = X_train[-1]\n",
    "    prv2 = X_train[-2]\n",
    "    # So we could index lists in next_X, an extra variable to keep track of index here.\n",
    "    # This will be correct since the order of the elements in test never changes.\n",
    "    ix = 0\n",
    "    for shop_id, item_id in zip(test.shop_id, test.item_id):\n",
    "        k = curr[(curr['shop_id'] == shop_id) & (curr['item_id'] == item_id)]\n",
    "        k1 = prv1[ix] # previous month data\n",
    "        k2 = prv2[ix] # month before previous month\n",
    "        \n",
    "        if (len(k) == 0):\n",
    "            sales = 0\n",
    "            price = 0\n",
    "        else:\n",
    "            sales = k.item_cnt_month.iloc(0)[0]\n",
    "            price = k.item_price.iloc(0)[0]\n",
    "        \n",
    "        d_sales = y_train[-2][ix] - y_train[-1][ix]\n",
    "        d_price = k2[4] - k1[4]\n",
    "        \n",
    "        ix += 1\n",
    "        \n",
    "        next_X.append([shop_id, item_id, i % 12, d_price, price, d_sales])\n",
    "        next_y.append(sales)\n",
    "    X_train.append(next_X)\n",
    "    y_train.append(next_y)"
   ]
  },
  {
   "cell_type": "markdown",
   "metadata": {},
   "source": [
    "Actually, let's now turn this all into a dataframe and save this into a csv file. We will continue in another file, where we try to figure out how to use this and the test set to finally train a model."
   ]
  },
  {
   "cell_type": "code",
   "execution_count": 33,
   "metadata": {},
   "outputs": [],
   "source": [
    "# Skip the first two blocks we made\n",
    "X_train = X_train[2:]\n",
    "y_train = y_train[2:]"
   ]
  },
  {
   "cell_type": "code",
   "execution_count": 38,
   "metadata": {
    "scrolled": true
   },
   "outputs": [],
   "source": [
    "# Directly write the CSV for later use.\n",
    "with open('newtrain.csv', 'w') as f:\n",
    "    f.write('shop_id,item_id,month,d_price,price,d_sales,sales\\n')\n",
    "    for i in range(len(X_train)):\n",
    "        for x, y in zip(X_train[i], y_train[i]):\n",
    "            # x is the list of stuff we saved\n",
    "            # y is just the label\n",
    "            f.write(f'{\",\".join(map(str, x))},{y}\\n')"
   ]
  },
  {
   "cell_type": "markdown",
   "metadata": {},
   "source": [
    "Test opening it up with pandas."
   ]
  },
  {
   "cell_type": "code",
   "execution_count": 42,
   "metadata": {},
   "outputs": [
    {
     "data": {
      "text/html": [
       "<div>\n",
       "<style scoped>\n",
       "    .dataframe tbody tr th:only-of-type {\n",
       "        vertical-align: middle;\n",
       "    }\n",
       "\n",
       "    .dataframe tbody tr th {\n",
       "        vertical-align: top;\n",
       "    }\n",
       "\n",
       "    .dataframe thead th {\n",
       "        text-align: right;\n",
       "    }\n",
       "</style>\n",
       "<table border=\"1\" class=\"dataframe\">\n",
       "  <thead>\n",
       "    <tr style=\"text-align: right;\">\n",
       "      <th></th>\n",
       "      <th>shop_id</th>\n",
       "      <th>item_id</th>\n",
       "      <th>month</th>\n",
       "      <th>d_price</th>\n",
       "      <th>price</th>\n",
       "      <th>d_sales</th>\n",
       "      <th>sales</th>\n",
       "    </tr>\n",
       "  </thead>\n",
       "  <tbody>\n",
       "    <tr>\n",
       "      <th>0</th>\n",
       "      <td>5</td>\n",
       "      <td>5037</td>\n",
       "      <td>0</td>\n",
       "      <td>0.0</td>\n",
       "      <td>0.0</td>\n",
       "      <td>0.0</td>\n",
       "      <td>0.0</td>\n",
       "    </tr>\n",
       "    <tr>\n",
       "      <th>1</th>\n",
       "      <td>5</td>\n",
       "      <td>5320</td>\n",
       "      <td>0</td>\n",
       "      <td>0.0</td>\n",
       "      <td>0.0</td>\n",
       "      <td>0.0</td>\n",
       "      <td>0.0</td>\n",
       "    </tr>\n",
       "    <tr>\n",
       "      <th>2</th>\n",
       "      <td>5</td>\n",
       "      <td>5233</td>\n",
       "      <td>0</td>\n",
       "      <td>0.0</td>\n",
       "      <td>0.0</td>\n",
       "      <td>0.0</td>\n",
       "      <td>0.0</td>\n",
       "    </tr>\n",
       "    <tr>\n",
       "      <th>3</th>\n",
       "      <td>5</td>\n",
       "      <td>5232</td>\n",
       "      <td>0</td>\n",
       "      <td>0.0</td>\n",
       "      <td>0.0</td>\n",
       "      <td>0.0</td>\n",
       "      <td>0.0</td>\n",
       "    </tr>\n",
       "    <tr>\n",
       "      <th>4</th>\n",
       "      <td>5</td>\n",
       "      <td>5268</td>\n",
       "      <td>0</td>\n",
       "      <td>0.0</td>\n",
       "      <td>0.0</td>\n",
       "      <td>0.0</td>\n",
       "      <td>0.0</td>\n",
       "    </tr>\n",
       "    <tr>\n",
       "      <th>...</th>\n",
       "      <td>...</td>\n",
       "      <td>...</td>\n",
       "      <td>...</td>\n",
       "      <td>...</td>\n",
       "      <td>...</td>\n",
       "      <td>...</td>\n",
       "      <td>...</td>\n",
       "    </tr>\n",
       "    <tr>\n",
       "      <th>4712395</th>\n",
       "      <td>45</td>\n",
       "      <td>18454</td>\n",
       "      <td>9</td>\n",
       "      <td>0.0</td>\n",
       "      <td>0.0</td>\n",
       "      <td>0.0</td>\n",
       "      <td>0.0</td>\n",
       "    </tr>\n",
       "    <tr>\n",
       "      <th>4712396</th>\n",
       "      <td>45</td>\n",
       "      <td>16188</td>\n",
       "      <td>9</td>\n",
       "      <td>0.0</td>\n",
       "      <td>0.0</td>\n",
       "      <td>0.0</td>\n",
       "      <td>0.0</td>\n",
       "    </tr>\n",
       "    <tr>\n",
       "      <th>4712397</th>\n",
       "      <td>45</td>\n",
       "      <td>15757</td>\n",
       "      <td>9</td>\n",
       "      <td>0.0</td>\n",
       "      <td>0.0</td>\n",
       "      <td>0.0</td>\n",
       "      <td>0.0</td>\n",
       "    </tr>\n",
       "    <tr>\n",
       "      <th>4712398</th>\n",
       "      <td>45</td>\n",
       "      <td>19648</td>\n",
       "      <td>9</td>\n",
       "      <td>0.0</td>\n",
       "      <td>0.0</td>\n",
       "      <td>0.0</td>\n",
       "      <td>0.0</td>\n",
       "    </tr>\n",
       "    <tr>\n",
       "      <th>4712399</th>\n",
       "      <td>45</td>\n",
       "      <td>969</td>\n",
       "      <td>9</td>\n",
       "      <td>0.0</td>\n",
       "      <td>0.0</td>\n",
       "      <td>0.0</td>\n",
       "      <td>0.0</td>\n",
       "    </tr>\n",
       "  </tbody>\n",
       "</table>\n",
       "<p>4712400 rows × 7 columns</p>\n",
       "</div>"
      ],
      "text/plain": [
       "         shop_id  item_id  month  d_price  price  d_sales  sales\n",
       "0              5     5037      0      0.0    0.0      0.0    0.0\n",
       "1              5     5320      0      0.0    0.0      0.0    0.0\n",
       "2              5     5233      0      0.0    0.0      0.0    0.0\n",
       "3              5     5232      0      0.0    0.0      0.0    0.0\n",
       "4              5     5268      0      0.0    0.0      0.0    0.0\n",
       "...          ...      ...    ...      ...    ...      ...    ...\n",
       "4712395       45    18454      9      0.0    0.0      0.0    0.0\n",
       "4712396       45    16188      9      0.0    0.0      0.0    0.0\n",
       "4712397       45    15757      9      0.0    0.0      0.0    0.0\n",
       "4712398       45    19648      9      0.0    0.0      0.0    0.0\n",
       "4712399       45      969      9      0.0    0.0      0.0    0.0\n",
       "\n",
       "[4712400 rows x 7 columns]"
      ]
     },
     "execution_count": 42,
     "metadata": {},
     "output_type": "execute_result"
    }
   ],
   "source": [
    "pd.read_csv('newtrain.csv')"
   ]
  },
  {
   "cell_type": "markdown",
   "metadata": {},
   "source": [
    "Before we leave for now, let's give the test set all of these things as well by modifying previous code slightly."
   ]
  },
  {
   "cell_type": "code",
   "execution_count": 53,
   "metadata": {},
   "outputs": [],
   "source": [
    "X_test = []\n",
    "\n",
    "ix = 0\n",
    "prv1 = X_train[-1]\n",
    "prv2 = X_train[-2]\n",
    "for shop_id, item_id in zip(test.shop_id, test.item_id):\n",
    "    # All the rest of the info comes from outside.\n",
    "    # We know the shop id and item id.\n",
    "    # We know the month is 10, because the last one was 9.\n",
    "    # Let's get the rest using prv1 and prv2\n",
    "    d_sales = y_train[-2][ix] - y_train[-1][ix]\n",
    "    d_price = prv2[ix][4] - prv1[ix][4]\n",
    "    # We'll just have to use the price from the last month now.\n",
    "    price = prv1[ix][4]\n",
    "    ix += 1\n",
    "    X_test.append([shop_id, item_id, 10, d_price, price, d_sales])"
   ]
  },
  {
   "cell_type": "code",
   "execution_count": 56,
   "metadata": {},
   "outputs": [],
   "source": [
    "# Write the CSV\n",
    "with open('newtest.csv', 'w') as f:\n",
    "    f.write('shop_id,item_id,month,d_price,price,d_sales\\n')\n",
    "    for shop_id,item_id,month,d_price,price,d_sales in X_test:\n",
    "        f.write(f'{shop_id},{item_id},{month},{d_price},{price},{d_sales}\\n')"
   ]
  },
  {
   "cell_type": "code",
   "execution_count": 57,
   "metadata": {
    "scrolled": false
   },
   "outputs": [
    {
     "data": {
      "text/html": [
       "<div>\n",
       "<style scoped>\n",
       "    .dataframe tbody tr th:only-of-type {\n",
       "        vertical-align: middle;\n",
       "    }\n",
       "\n",
       "    .dataframe tbody tr th {\n",
       "        vertical-align: top;\n",
       "    }\n",
       "\n",
       "    .dataframe thead th {\n",
       "        text-align: right;\n",
       "    }\n",
       "</style>\n",
       "<table border=\"1\" class=\"dataframe\">\n",
       "  <thead>\n",
       "    <tr style=\"text-align: right;\">\n",
       "      <th></th>\n",
       "      <th>shop_id</th>\n",
       "      <th>item_id</th>\n",
       "      <th>month</th>\n",
       "      <th>d_price</th>\n",
       "      <th>price</th>\n",
       "      <th>d_sales</th>\n",
       "    </tr>\n",
       "  </thead>\n",
       "  <tbody>\n",
       "    <tr>\n",
       "      <th>0</th>\n",
       "      <td>5</td>\n",
       "      <td>5037</td>\n",
       "      <td>10</td>\n",
       "      <td>0.0</td>\n",
       "      <td>0.0</td>\n",
       "      <td>0.0</td>\n",
       "    </tr>\n",
       "    <tr>\n",
       "      <th>1</th>\n",
       "      <td>5</td>\n",
       "      <td>5320</td>\n",
       "      <td>10</td>\n",
       "      <td>0.0</td>\n",
       "      <td>0.0</td>\n",
       "      <td>0.0</td>\n",
       "    </tr>\n",
       "    <tr>\n",
       "      <th>2</th>\n",
       "      <td>5</td>\n",
       "      <td>5233</td>\n",
       "      <td>10</td>\n",
       "      <td>0.0</td>\n",
       "      <td>0.0</td>\n",
       "      <td>0.0</td>\n",
       "    </tr>\n",
       "    <tr>\n",
       "      <th>3</th>\n",
       "      <td>5</td>\n",
       "      <td>5232</td>\n",
       "      <td>10</td>\n",
       "      <td>0.0</td>\n",
       "      <td>0.0</td>\n",
       "      <td>0.0</td>\n",
       "    </tr>\n",
       "    <tr>\n",
       "      <th>4</th>\n",
       "      <td>5</td>\n",
       "      <td>5268</td>\n",
       "      <td>10</td>\n",
       "      <td>0.0</td>\n",
       "      <td>0.0</td>\n",
       "      <td>0.0</td>\n",
       "    </tr>\n",
       "    <tr>\n",
       "      <th>...</th>\n",
       "      <td>...</td>\n",
       "      <td>...</td>\n",
       "      <td>...</td>\n",
       "      <td>...</td>\n",
       "      <td>...</td>\n",
       "      <td>...</td>\n",
       "    </tr>\n",
       "    <tr>\n",
       "      <th>214195</th>\n",
       "      <td>45</td>\n",
       "      <td>18454</td>\n",
       "      <td>10</td>\n",
       "      <td>0.0</td>\n",
       "      <td>0.0</td>\n",
       "      <td>0.0</td>\n",
       "    </tr>\n",
       "    <tr>\n",
       "      <th>214196</th>\n",
       "      <td>45</td>\n",
       "      <td>16188</td>\n",
       "      <td>10</td>\n",
       "      <td>0.0</td>\n",
       "      <td>0.0</td>\n",
       "      <td>0.0</td>\n",
       "    </tr>\n",
       "    <tr>\n",
       "      <th>214197</th>\n",
       "      <td>45</td>\n",
       "      <td>15757</td>\n",
       "      <td>10</td>\n",
       "      <td>0.0</td>\n",
       "      <td>0.0</td>\n",
       "      <td>0.0</td>\n",
       "    </tr>\n",
       "    <tr>\n",
       "      <th>214198</th>\n",
       "      <td>45</td>\n",
       "      <td>19648</td>\n",
       "      <td>10</td>\n",
       "      <td>0.0</td>\n",
       "      <td>0.0</td>\n",
       "      <td>0.0</td>\n",
       "    </tr>\n",
       "    <tr>\n",
       "      <th>214199</th>\n",
       "      <td>45</td>\n",
       "      <td>969</td>\n",
       "      <td>10</td>\n",
       "      <td>0.0</td>\n",
       "      <td>0.0</td>\n",
       "      <td>0.0</td>\n",
       "    </tr>\n",
       "  </tbody>\n",
       "</table>\n",
       "<p>214200 rows × 6 columns</p>\n",
       "</div>"
      ],
      "text/plain": [
       "        shop_id  item_id  month  d_price  price  d_sales\n",
       "0             5     5037     10      0.0    0.0      0.0\n",
       "1             5     5320     10      0.0    0.0      0.0\n",
       "2             5     5233     10      0.0    0.0      0.0\n",
       "3             5     5232     10      0.0    0.0      0.0\n",
       "4             5     5268     10      0.0    0.0      0.0\n",
       "...         ...      ...    ...      ...    ...      ...\n",
       "214195       45    18454     10      0.0    0.0      0.0\n",
       "214196       45    16188     10      0.0    0.0      0.0\n",
       "214197       45    15757     10      0.0    0.0      0.0\n",
       "214198       45    19648     10      0.0    0.0      0.0\n",
       "214199       45      969     10      0.0    0.0      0.0\n",
       "\n",
       "[214200 rows x 6 columns]"
      ]
     },
     "execution_count": 57,
     "metadata": {},
     "output_type": "execute_result"
    }
   ],
   "source": [
    "pd.read_csv('newtest.csv')"
   ]
  },
  {
   "cell_type": "markdown",
   "metadata": {},
   "source": [
    "Alright, that's it for now."
   ]
  }
 ],
 "metadata": {
  "kernelspec": {
   "display_name": "Python 3",
   "language": "python",
   "name": "python3"
  },
  "language_info": {
   "codemirror_mode": {
    "name": "ipython",
    "version": 3
   },
   "file_extension": ".py",
   "mimetype": "text/x-python",
   "name": "python",
   "nbconvert_exporter": "python",
   "pygments_lexer": "ipython3",
   "version": "3.8.5"
  }
 },
 "nbformat": 4,
 "nbformat_minor": 4
}
